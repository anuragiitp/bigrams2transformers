{
  "cells": [
    {
      "cell_type": "markdown",
      "metadata": {
        "vscode": {
          "languageId": "raw"
        }
      },
      "source": [
        "# Bigrams to Transformers: \n",
        "\n",
        "\n",
        "outlines different **approaches to learn** language modeling concepts\n",
        "\n",
        "Minimal vocabulary, fast to train. Good for seeing if the model learns character patterns.\n",
        "\n",
        "- Bigrams → MLPs → CNNs → Transformers\n",
        "\n",
        "1. **Count-Based Bigram Model**  \n",
        "   Uses frequency statistics of character pairs (bigrams) to estimate the probability of the next character.\n",
        "\n",
        "2. **Neural Bigram Model**  \n",
        "   A simple neural network that predicts the next character based on a single-character input.\n",
        "\n",
        "3. **MLP with Extended Context**  \n",
        "   A multi-layer perceptron model that takes multiple preceding characters as input to provide richer context.\n",
        "\n",
        "4. **CNN-Inspired Hierarchical Model**  \n",
        "   processes sequences hierarchically, capturing local dependencies across layers.\n",
        "\n",
        "5. **Simple Transformer Model**  \n",
        "   A self-attention based architecture that processes the entire sequence simultaneously \n",
        "   capture long-range dependencies and relationships between all characters in the context window.\n"
      ]
    },
    {
      "cell_type": "markdown",
      "metadata": {},
      "source": [
        "###  Optimizer ( SGD , Adam ..)\n",
        "\n",
        "- Optimizers adjust model weights to minimize the loss function using gradients.\n",
        "- **SGD** uses raw gradients scaled by a fixed learning rate — simple but may be unstable.\n",
        "- **Adam** adds momentum and adaptive learning rates for faster, smoother convergence.\n"
      ]
    },
    {
      "cell_type": "markdown",
      "metadata": {},
      "source": [
        "###  Dropout in Neural Networks\n",
        "\n",
        "\n",
        "**Dropout** At each training step, a random fraction of neurons are **\"dropped\" (set to zero)**, meaning they do not participate in the forward or backward pass.  \n",
        "\n",
        "Why Use Dropout?\n",
        "\n",
        "Without dropout:\n",
        "- becoming overly dependent on specific neurons or features.\n",
        "- Neural networks can **overfit** training data by memorizing it.\n",
        "\n",
        "With dropout:\n",
        "- Each neuron can't rely on others always being present.\n",
        "- The model learns **redundant and robust representations**.\n",
        "- It acts like training **many smaller sub-networks simultaneously** (ensemble effect).\n",
        "\n",
        "\n",
        "**At inference time, dropout is disabled - All neurons are active**\n",
        "\n",
        "Example: Redundant Representations\n",
        "\n",
        "Imagine a model trying to detect a **cat** from features:\n",
        "\n",
        "- has an ear\n",
        "- has a tail\n",
        "- is furry\n",
        "- has claws\n",
        "- mischievous look\n",
        "\n",
        "\n",
        "\n",
        "With dropout:\n",
        "- Random neurons/features are **dropped temporarily** (`❌`).\n",
        "- The network must still detect \"cat\" by combining the remaining features.\n",
        "\n",
        "\n",
        "- [ has an ear ❌ ]\n",
        "- [ has a tail ✔️ ]\n",
        "- [ is furry ❌ ]\n",
        "- [ has claws ✔️ ]\n",
        "- [ mischievous look ❌ ]\n",
        "\n",
        "Prediction → cat score ✅\n",
        "\n",
        "Forces the network to have a redundant representation\"\n",
        "\n",
        "Each mini-model (subset of the full network) learns to predict \"cat\" with different combinations.\n",
        "\n",
        "\n",
        "- neuron_42 → only activates if \"is furry\" \n",
        "- training with dropout\n",
        "    - neuron_42 → activates if \"is furry\"\n",
        "    - neuron_57 → also activates if \"is furry\" OR \"has a tail\"\n",
        "    - neuron_13 → activates for \"mischievous look\"\n",
        "\n",
        "\n",
        "\n"
      ]
    },
    {
      "cell_type": "markdown",
      "metadata": {},
      "source": [
        "###  Regularization: Motivation Example\n",
        "\n",
        "Consider the following:\n",
        "\n",
        "- Input vector:  \n",
        "  $$\n",
        "  x = [1, 1, 1, 1]\n",
        "  $$\n",
        "\n",
        "- Two possible weight vectors that yield the same prediction:\n",
        "\n",
        "  $$\n",
        "  w_1 = [1, 0, 0, 0] \\\\\n",
        "  w_2 = [0.25, 0.25, 0.25, 0.25]\n",
        "  $$\n",
        "\n",
        "- Both produce the same output when applied to `x`:\n",
        "\n",
        "  $$\n",
        "  w_1^T x = 1 \\\\\n",
        "  w_2^T x = 1\n",
        "  $$\n",
        "\n",
        "So, **which one should we prefer**?\n",
        "\n",
        "\n",
        "\n",
        "### L2 Regularization Insight\n",
        "\n",
        "L2 regularization encourages **smaller, more evenly distributed** weights.\n",
        "\n",
        "Let’s compare their L2 norms:\n",
        "- $\\|w_1\\|_2^2 = 1^2 + 0^2 + 0^2 + 0^2 = 1$\n",
        "- $\\|w_2\\|_2^2 = 4 \\times (0.25)^2 = 0.25$\n",
        "\n",
        "✅ Thus, **$w_2$ has a smaller L2 norm** → L2 regularization prefers $w_2$.\n",
        "\n",
        "\n",
        "\n",
        "### 📐 L1 vs L2 Regularization\n",
        "\n",
        "| Term | Formula | Effect |\n",
        "|------|---------|--------|\n",
        "| Regularization | Formula | Effect |\n",
        "|----------------|---------|--------|\n",
        "| **L1 (Lasso)** | $\\lambda \\sum \\|w_i\\|$ | Encourages sparsity (many zero weights) |\n",
        "| **L2 (Ridge)** | $\\lambda \\sum w_i^2$   | Encourages small, distributed weights |\n",
        "\n",
        "- **L1** → sparse models, feature selection.\n",
        "- **L2** → smooth solutions, avoids large individual weights.\n",
        "\n",
        "\n",
        "### Summary\n",
        "\n",
        "Even though both $w_1$ and $w_2$ give the same prediction, **L2 regularization** would favor $w_2$ for its **lower weight magnitude**, promoting **generalization** and **numerical stability**.\n",
        "\n"
      ]
    },
    {
      "cell_type": "code",
      "execution_count": 14,
      "metadata": {},
      "outputs": [
        {
          "name": "stdout",
          "output_type": "stream",
          "text": [
            "Requirement already satisfied: matplotlib in .\\.venv\\lib\\site-packages (3.10.5)\n",
            "Requirement already satisfied: contourpy>=1.0.1 in .\\.venv\\lib\\site-packages (from matplotlib) (1.3.3)\n",
            "Requirement already satisfied: cycler>=0.10 in .\\.venv\\lib\\site-packages (from matplotlib) (0.12.1)\n",
            "Requirement already satisfied: fonttools>=4.22.0 in .\\.venv\\lib\\site-packages (from matplotlib) (4.59.0)\n",
            "Requirement already satisfied: kiwisolver>=1.3.1 in .\\.venv\\lib\\site-packages (from matplotlib) (1.4.8)\n",
            "Requirement already satisfied: numpy>=1.23 in .\\.venv\\lib\\site-packages (from matplotlib) (2.3.2)\n",
            "Requirement already satisfied: packaging>=20.0 in .\\.venv\\lib\\site-packages (from matplotlib) (25.0)\n",
            "Requirement already satisfied: pillow>=8 in .\\.venv\\lib\\site-packages (from matplotlib) (11.3.0)\n",
            "Requirement already satisfied: pyparsing>=2.3.1 in .\\.venv\\lib\\site-packages (from matplotlib) (3.2.3)\n",
            "Requirement already satisfied: python-dateutil>=2.7 in .\\.venv\\lib\\site-packages (from matplotlib) (2.9.0.post0)\n",
            "Requirement already satisfied: six>=1.5 in .\\.venv\\lib\\site-packages (from python-dateutil>=2.7->matplotlib) (1.17.0)\n",
            "Requirement already satisfied: numpy in .\\.venv\\lib\\site-packages (2.3.2)\n",
            "Looking in indexes: https://download.pytorch.org/whl/cu121\n",
            "Requirement already satisfied: torch==2.2.2+cu121 in .\\.venv\\lib\\site-packages (2.2.2+cu121)\n",
            "Requirement already satisfied: torchvision in .\\.venv\\lib\\site-packages (0.17.2+cu121)\n",
            "Requirement already satisfied: torchaudio in .\\.venv\\lib\\site-packages (2.2.2+cu121)\n",
            "Requirement already satisfied: filelock in .\\.venv\\lib\\site-packages (from torch==2.2.2+cu121) (3.18.0)\n",
            "Requirement already satisfied: typing-extensions>=4.8.0 in .\\.venv\\lib\\site-packages (from torch==2.2.2+cu121) (4.14.1)\n",
            "Requirement already satisfied: sympy in .\\.venv\\lib\\site-packages (from torch==2.2.2+cu121) (1.14.0)\n",
            "Requirement already satisfied: networkx in .\\.venv\\lib\\site-packages (from torch==2.2.2+cu121) (3.5)\n",
            "Requirement already satisfied: jinja2 in .\\.venv\\lib\\site-packages (from torch==2.2.2+cu121) (3.1.6)\n",
            "Requirement already satisfied: fsspec in .\\.venv\\lib\\site-packages (from torch==2.2.2+cu121) (2025.7.0)\n",
            "Requirement already satisfied: numpy in .\\.venv\\lib\\site-packages (from torchvision) (2.3.2)\n",
            "Requirement already satisfied: pillow!=8.3.*,>=5.3.0 in .\\.venv\\lib\\site-packages (from torchvision) (11.3.0)\n",
            "Requirement already satisfied: MarkupSafe>=2.0 in .\\.venv\\lib\\site-packages (from jinja2->torch==2.2.2+cu121) (3.0.2)\n",
            "Requirement already satisfied: mpmath<1.4,>=1.1.0 in .\\.venv\\lib\\site-packages (from sympy->torch==2.2.2+cu121) (1.3.0)\n",
            "2.2.2+cu121\n",
            "12.1\n",
            "True\n"
          ]
        }
      ],
      "source": [
        "! pip install matplotlib\n",
        "! pip install numpy\n",
        "! pip install torch==2.2.2+cu121 torchvision torchaudio --index-url https://download.pytorch.org/whl/cu121\n",
        "\n",
        "\n",
        "import torch\n",
        "import torch.nn.functional as F\n",
        "import matplotlib.pyplot as plt\n",
        "import numpy as np\n",
        "import random\n",
        "%matplotlib inline\n",
        "\n",
        "print(torch.__version__)             \n",
        "print(torch.version.cuda)            \n",
        "print(torch.cuda.is_available())     \n"
      ]
    },
    {
      "cell_type": "markdown",
      "metadata": {},
      "source": [
        "##  **Tensor Slicing: `words[:n1]`**\n",
        "**Purpose:** Slicing tensor\n",
        "\n",
        "```"
      ]
    },
    {
      "cell_type": "code",
      "execution_count": 15,
      "metadata": {},
      "outputs": [
        {
          "name": "stdout",
          "output_type": "stream",
          "text": [
            "tensor([15, 13,  9, 14,  1,  8,  1, 13, 21])\n",
            "tensor([5])\n",
            "tensor([1, 3])\n"
          ]
        }
      ],
      "source": [
        "words_examples = torch.tensor([15, 13, 9, 14, 1, 8, 1, 13, 21, 5, 1, 3])\n",
        "\n",
        "print(words_examples[:9])    # [0:9] → first 9 elements\n",
        "print(words_examples[9:10])    # [9:10] → element at index 9\n",
        "print(words_examples[10:])     # [10:] → remaining elements"
      ]
    },
    {
      "cell_type": "markdown",
      "metadata": {},
      "source": [
        "## **`tensor.view()` - Tensor Reshaping**\n",
        "**Purpose:** Reshape tensors without changing data "
      ]
    },
    {
      "cell_type": "code",
      "execution_count": 16,
      "metadata": {},
      "outputs": [
        {
          "name": "stdout",
          "output_type": "stream",
          "text": [
            "Original: torch.Size([2, 3]) \n",
            "tensor([[1, 2, 3],\n",
            "        [4, 5, 6]])\n",
            "Reshape to different dimensions:\n",
            "tensor([1, 2, 3, 4, 5, 6])\n",
            "tensor([[1],\n",
            "        [2],\n",
            "        [3],\n",
            "        [4],\n",
            "        [5],\n",
            "        [6]])\n",
            "tensor([[1, 2, 3, 4, 5, 6]])\n",
            "tensor([[1, 2, 3],\n",
            "        [4, 5, 6]])\n"
          ]
        }
      ],
      "source": [
        "\n",
        "example_x = torch.tensor([[1, 2, 3], [4, 5, 6]])  # Shape: [2, 3]\n",
        "print(f\"Original: {example_x.shape} \\n{example_x}\")\n",
        "\n",
        "# Reshape to different dimensions\n",
        "print(f\"Reshape to different dimensions:\")\n",
        "print(example_x.view(6))        # Flatten to 1D: [6]\n",
        "print(example_x.view(6, 1))      # Column vector: [6, 1] \n",
        "print(example_x.view(1, 6))      # Row vector: [1, 6]\n",
        "print(example_x.view(2, -1))      # Row vector: [2, 3] auto-calculate"
      ]
    },
    {
      "cell_type": "markdown",
      "metadata": {},
      "source": [
        "## **`torch.multinomial()` - Probability Sampling**\n",
        "**Purpose:** Sample from probability distributions\n"
      ]
    },
    {
      "cell_type": "code",
      "execution_count": 17,
      "metadata": {},
      "outputs": [
        {
          "name": "stdout",
          "output_type": "stream",
          "text": [
            "Probabilities: tensor([0.1000, 0.3000, 0.4000, 0.2000])\n",
            "Sampled character index: 1\n",
            "Multiple samples: tensor([1, 2, 3, 1, 0])\n"
          ]
        }
      ],
      "source": [
        "# Create probability distribution for next character prediction\n",
        "example_probs = torch.tensor([0.1, 0.3, 0.4, 0.2])  # 4 possible characters\n",
        "print(f\"Probabilities: {example_probs}\")\n",
        "\n",
        "# Sample one character based on probabilities\n",
        "g = torch.Generator().manual_seed(42)\n",
        "sampled_idx = torch.multinomial(example_probs, num_samples=1, replacement=True, generator=g).item()\n",
        "print(f\"Sampled character index: {sampled_idx}\")\n",
        "\n",
        "# Sample multiple characters\n",
        "samples = torch.multinomial(example_probs, num_samples=5, replacement=True, generator=g)\n",
        "print(f\"Multiple samples: {samples}\")"
      ]
    },
    {
      "cell_type": "markdown",
      "metadata": {},
      "source": [
        "## **`F.one_hot()` - One-Hot Encoding**"
      ]
    },
    {
      "cell_type": "code",
      "execution_count": 18,
      "metadata": {},
      "outputs": [
        {
          "name": "stdout",
          "output_type": "stream",
          "text": [
            "Indices: tensor([0, 1, 2, 0])\n",
            "One-hot encoding:\n",
            "tensor([[1., 0., 0.],\n",
            "        [0., 1., 0.],\n",
            "        [0., 0., 1.],\n",
            "        [1., 0., 0.]])\n",
            "Shape: torch.Size([4, 3])\n"
          ]
        }
      ],
      "source": [
        "import torch.nn.functional as F\n",
        "\n",
        "# Character indices (e.g., a=0, b=1, c=2, ...)\n",
        "char_indices = torch.tensor([0, 1, 2, 0])  # represents \"abca\"\n",
        "vocab_size = 3  # we have 3 characters: a, b, c\n",
        "\n",
        "# Convert to one-hot encoding\n",
        "one_hot = F.one_hot(char_indices, num_classes=vocab_size).float()\n",
        "print(f\"Indices: {char_indices}\")\n",
        "print(f\"One-hot encoding:\\n{one_hot}\")\n",
        "print(f\"Shape: {one_hot.shape}\")  # [4, 3] → 4 characters, 3 vocab size"
      ]
    },
    {
      "cell_type": "markdown",
      "metadata": {},
      "source": [
        "## **`BatchNorm1d` - Batch Normalization**\n",
        "**Purpose:** Normalize layer inputs to stabilize training and improve convergence"
      ]
    },
    {
      "cell_type": "code",
      "execution_count": 19,
      "metadata": {},
      "outputs": [
        {
          "name": "stdout",
          "output_type": "stream",
          "text": [
            "Input shape: torch.Size([32, 128])\n",
            "Before BatchNorm - Mean: -0.001, Std: 0.996\n",
            "After BatchNorm - Mean: -0.000, Std: 1.000\n",
            "Output shape: torch.Size([32, 128])\n"
          ]
        }
      ],
      "source": [
        "batch_size, hidden_size = 32, 128\n",
        "hidden_activations = torch.randn(batch_size, hidden_size)\n",
        "print(f\"Input shape: {hidden_activations.shape}\")\n",
        "print(f\"Before BatchNorm - Mean: {hidden_activations.mean():.3f}, Std: {hidden_activations.std():.3f}\")\n",
        "\n",
        "# Apply batch normalization\n",
        "batch_norm = torch.nn.BatchNorm1d(hidden_size)\n",
        "normalized = batch_norm(hidden_activations)\n",
        "\n",
        "print(f\"After BatchNorm - Mean: {normalized.mean():.3f}, Std: {normalized.std():.3f}\")\n",
        "print(f\"Output shape: {normalized.shape}\")"
      ]
    },
    {
      "cell_type": "markdown",
      "metadata": {},
      "source": [
        "###   Training a Neural Network (Main Loop)\n",
        "\n",
        "```python\n",
        "while True:\n",
        "    # 1. Get a batch of training data\n",
        "    data_batch = sample_data_batch()\n",
        "\n",
        "    # 2. Forward pass: compute predictions and loss\n",
        "    loss = forward(data_batch)\n",
        "\n",
        "    # 3. Backward pass: compute gradients of loss w.r.t parameters\n",
        "    gradients = backward()\n",
        "\n",
        "    # 4. Update parameters using gradient descent\n",
        "    x -= learning_rate * gradients\n"
      ]
    },
    {
      "cell_type": "markdown",
      "metadata": {},
      "source": [
        "### **Step-by-Step Training Process**\n",
        "\n",
        "#### **Step 1: Data Preparation** Select training batch\n",
        "\n",
        "\n",
        "#### **Step 2: Forward Pass** Model prediction\n",
        "```python\n",
        "# Model prediction\n",
        "logits = model(x_batch)\n",
        "loss = compute_loss(logits, y_batch)\n",
        "```\n",
        "\n",
        "#### **Step 3: Backward Pass** Gradient computation and parameter update\n",
        "```python\n",
        "# Gradient computation and parameter update\n",
        "optimizer.zero_grad()\n",
        "loss.backward()\n",
        "optimizer.step()\n",
        "```\n",
        "\n",
        "#### **Step 4: Training Loop**\n",
        "```python\n",
        "for epoch in range(num_epochs):\n",
        "    for batch in train_loader:\n",
        "        # Repeat Steps 1-3\n",
        "        train_step(model, batch, optimizer)\n",
        "```\n",
        "\n",
        "#### **Step 5: Validation & Test Evaluation**\n",
        "```python\n",
        "# Calculate losses without gradient updates\n",
        "val_loss = evaluate(model, val_data)\n",
        "test_loss = evaluate(model, test_data)\n",
        "```\n",
        "\n",
        "#### **Step 6: Text Generation**\n",
        "```python\n",
        "# Generate sample text to assess model quality\n",
        "sample_text = generate(model, prompt=\"The\", length=50)\n",
        "```"
      ]
    },
    {
      "cell_type": "markdown",
      "metadata": {},
      "source": [
        "\n",
        "\n",
        "\n",
        "---"
      ]
    },
    {
      "cell_type": "code",
      "execution_count": 20,
      "metadata": {},
      "outputs": [],
      "source": [
        "# Set random seeds for reproducibility\n",
        "torch.manual_seed(42)\n",
        "np.random.seed(42)\n",
        "random.seed(42)"
      ]
    },
    {
      "cell_type": "markdown",
      "metadata": {
        "vscode": {
          "languageId": "raw"
        }
      },
      "source": [
        "### Data Preparation\n",
        "\n",
        "First, let's load the dataset and prepare the character vocabulary that all four models will use.\n",
        "### Load the names dataset\n"
      ]
    },
    {
      "cell_type": "code",
      "execution_count": 21,
      "metadata": {},
      "outputs": [
        {
          "name": "stdout",
          "output_type": "stream",
          "text": [
            "📚 Dataset loaded: 46539 names\n",
            "   Sample names: ['rajkumar', 'viya', 'dael', 'spirit', 'ishika', 'naszir', 'neeshu', 'reygan', 'sohan', 'emmalouise']\n",
            "   Name lengths: min=1, max=19\n"
          ]
        }
      ],
      "source": [
        "# Load the names dataset\n",
        "words = open('names.txt', 'r').read().splitlines()\n",
        "random.shuffle(words)\n",
        "print(f\"📚 Dataset loaded: {len(words)} names\")\n",
        "print(f\"   Sample names: {words[:10]}\")\n",
        "print(f\"   Name lengths: min={min(len(w) for w in words)}, max={max(len(w) for w in words)}\")"
      ]
    },
    {
      "cell_type": "markdown",
      "metadata": {},
      "source": [
        "### Create character vocabulary / tokens "
      ]
    },
    {
      "cell_type": "code",
      "execution_count": 22,
      "metadata": {},
      "outputs": [
        {
          "name": "stdout",
          "output_type": "stream",
          "text": [
            "\n",
            "📝 Vocabulary created:\n",
            "   Size: 27 characters\n",
            "   Characters: abcdefghijklmnopqrstuvwxyz\n",
            "   Start/End token '.': index 0\n"
          ]
        }
      ],
      "source": [
        "# Create character vocabulary\n",
        "chars = sorted(list(set(''.join(words))))\n",
        "stoi = {s:i+1 for i,s in enumerate(chars)}  # string to index\n",
        "stoi['.'] = 0  # special start/end token\n",
        "itos = {i:s for s,i in stoi.items()}  # index to string\n",
        "vocab_size = len(itos)\n",
        "\n",
        "print(f\"\\n📝 Vocabulary created:\")\n",
        "print(f\"   Size: {vocab_size} characters\")\n",
        "print(f\"   Characters: {''.join(chars)}\")\n",
        "print(f\"   Start/End token '.': index {stoi['.']}\")"
      ]
    },
    {
      "cell_type": "markdown",
      "metadata": {},
      "source": [
        "### Dataset splits : Training , Validation & Test\n",
        "- Data are sampled without replacement during training (80% , 10% , 10% )"
      ]
    },
    {
      "cell_type": "code",
      "execution_count": 23,
      "metadata": {},
      "outputs": [
        {
          "name": "stdout",
          "output_type": "stream",
          "text": [
            "\n",
            "📊 Dataset splits:\n",
            "   Training: 37231 names\n",
            "   Validation: 4654 names\n",
            "   Test: 4654 names\n"
          ]
        }
      ],
      "source": [
        "\n",
        "\n",
        "n1 = int(0.8 * len(words))\n",
        "n2 = int(0.9 * len(words))\n",
        "\n",
        "train_words = words[:n1]\n",
        "val_words = words[n1:n2] \n",
        "test_words = words[n2:]\n",
        "\n",
        "print(f\"\\n📊 Dataset splits:\")\n",
        "print(f\"   Training: {len(train_words)} names\")\n",
        "print(f\"   Validation: {len(val_words)} names\") \n",
        "print(f\"   Test: {len(test_words)} names\")\n"
      ]
    },
    {
      "cell_type": "markdown",
      "metadata": {
        "vscode": {
          "languageId": "raw"
        }
      },
      "source": [
        "# Model 1: Count-based Bigram Model\n",
        "\n",
        "- The count-based approach counts frequency of character pairs and converts them to probabilities. This is the traditional statistical approach.\n"
      ]
    },
    {
      "cell_type": "markdown",
      "metadata": {},
      "source": [
        "#### Build bigram count matrix from training data"
      ]
    },
    {
      "cell_type": "code",
      "execution_count": 24,
      "metadata": {},
      "outputs": [
        {
          "name": "stdout",
          "output_type": "stream",
          "text": [
            "📊 Building bigram counts...\n",
            "✅ Count matrix built: torch.Size([27, 27])\n",
            "   Total bigrams: 261746\n"
          ]
        }
      ],
      "source": [
        "# Build bigram count matrix from training data\n",
        "N = torch.zeros((vocab_size, vocab_size), dtype=torch.int32)\n",
        "\n",
        "print(\"📊 Building bigram counts...\")\n",
        "for w in train_words:\n",
        "    chs = ['.'] + list(w) + ['.']\n",
        "    for ch1, ch2 in zip(chs, chs[1:]):\n",
        "        ix1 = stoi[ch1]\n",
        "        ix2 = stoi[ch2]\n",
        "        N[ix1, ix2] += 1\n",
        "\n",
        "print(f\"✅ Count matrix built: {N.shape}\")\n",
        "print(f\"   Total bigrams: {N.sum().item()}\")\n",
        "\n"
      ]
    },
    {
      "cell_type": "markdown",
      "metadata": {},
      "source": [
        "### Visualize the count matrix before conversion to probabilities"
      ]
    },
    {
      "cell_type": "code",
      "execution_count": 25,
      "metadata": {},
      "outputs": [
        {
          "name": "stdout",
          "output_type": "stream",
          "text": [
            "\n",
            "📊 Visualizing bigram count matrix with actual counts...\n"
          ]
        },
        {
          "ename": "RuntimeError",
          "evalue": "Numpy is not available",
          "output_type": "error",
          "traceback": [
            "\u001b[31m---------------------------------------------------------------------------\u001b[39m",
            "\u001b[31mRuntimeError\u001b[39m                              Traceback (most recent call last)",
            "\u001b[36mCell\u001b[39m\u001b[36m \u001b[39m\u001b[32mIn[25]\u001b[39m\u001b[32m, line 6\u001b[39m\n\u001b[32m      3\u001b[39m plt.figure(figsize=(\u001b[32m15\u001b[39m, \u001b[32m12\u001b[39m))\n\u001b[32m      5\u001b[39m \u001b[38;5;66;03m# Display the count matrix in green\u001b[39;00m\n\u001b[32m----> \u001b[39m\u001b[32m6\u001b[39m im = \u001b[43mplt\u001b[49m\u001b[43m.\u001b[49m\u001b[43mimshow\u001b[49m\u001b[43m(\u001b[49m\u001b[43mN\u001b[49m\u001b[43m,\u001b[49m\u001b[43m \u001b[49m\u001b[43mcmap\u001b[49m\u001b[43m=\u001b[49m\u001b[33;43m'\u001b[39;49m\u001b[33;43mGreens\u001b[39;49m\u001b[33;43m'\u001b[39;49m\u001b[43m,\u001b[49m\u001b[43m \u001b[49m\u001b[43minterpolation\u001b[49m\u001b[43m=\u001b[49m\u001b[33;43m'\u001b[39;49m\u001b[33;43mnearest\u001b[39;49m\u001b[33;43m'\u001b[39;49m\u001b[43m)\u001b[49m\n\u001b[32m      7\u001b[39m plt.colorbar(im, label=\u001b[33m'\u001b[39m\u001b[33mCount\u001b[39m\u001b[33m'\u001b[39m)\n\u001b[32m      8\u001b[39m plt.title(\u001b[33m'\u001b[39m\u001b[33mBigram Count Matrix (Raw Counts with Values)\u001b[39m\u001b[33m'\u001b[39m, fontsize=\u001b[32m16\u001b[39m, fontweight=\u001b[33m'\u001b[39m\u001b[33mbold\u001b[39m\u001b[33m'\u001b[39m)\n",
            "\u001b[36mFile \u001b[39m\u001b[32md:\\connect_workspace\\pydemo\\.venv\\Lib\\site-packages\\matplotlib\\pyplot.py:3601\u001b[39m, in \u001b[36mimshow\u001b[39m\u001b[34m(X, cmap, norm, aspect, interpolation, alpha, vmin, vmax, colorizer, origin, extent, interpolation_stage, filternorm, filterrad, resample, url, data, **kwargs)\u001b[39m\n\u001b[32m   3579\u001b[39m \u001b[38;5;129m@_copy_docstring_and_deprecators\u001b[39m(Axes.imshow)\n\u001b[32m   3580\u001b[39m \u001b[38;5;28;01mdef\u001b[39;00m\u001b[38;5;250m \u001b[39m\u001b[34mimshow\u001b[39m(\n\u001b[32m   3581\u001b[39m     X: ArrayLike | PIL.Image.Image,\n\u001b[32m   (...)\u001b[39m\u001b[32m   3599\u001b[39m     **kwargs,\n\u001b[32m   3600\u001b[39m ) -> AxesImage:\n\u001b[32m-> \u001b[39m\u001b[32m3601\u001b[39m     __ret = \u001b[43mgca\u001b[49m\u001b[43m(\u001b[49m\u001b[43m)\u001b[49m\u001b[43m.\u001b[49m\u001b[43mimshow\u001b[49m\u001b[43m(\u001b[49m\n\u001b[32m   3602\u001b[39m \u001b[43m        \u001b[49m\u001b[43mX\u001b[49m\u001b[43m,\u001b[49m\n\u001b[32m   3603\u001b[39m \u001b[43m        \u001b[49m\u001b[43mcmap\u001b[49m\u001b[43m=\u001b[49m\u001b[43mcmap\u001b[49m\u001b[43m,\u001b[49m\n\u001b[32m   3604\u001b[39m \u001b[43m        \u001b[49m\u001b[43mnorm\u001b[49m\u001b[43m=\u001b[49m\u001b[43mnorm\u001b[49m\u001b[43m,\u001b[49m\n\u001b[32m   3605\u001b[39m \u001b[43m        \u001b[49m\u001b[43maspect\u001b[49m\u001b[43m=\u001b[49m\u001b[43maspect\u001b[49m\u001b[43m,\u001b[49m\n\u001b[32m   3606\u001b[39m \u001b[43m        \u001b[49m\u001b[43minterpolation\u001b[49m\u001b[43m=\u001b[49m\u001b[43minterpolation\u001b[49m\u001b[43m,\u001b[49m\n\u001b[32m   3607\u001b[39m \u001b[43m        \u001b[49m\u001b[43malpha\u001b[49m\u001b[43m=\u001b[49m\u001b[43malpha\u001b[49m\u001b[43m,\u001b[49m\n\u001b[32m   3608\u001b[39m \u001b[43m        \u001b[49m\u001b[43mvmin\u001b[49m\u001b[43m=\u001b[49m\u001b[43mvmin\u001b[49m\u001b[43m,\u001b[49m\n\u001b[32m   3609\u001b[39m \u001b[43m        \u001b[49m\u001b[43mvmax\u001b[49m\u001b[43m=\u001b[49m\u001b[43mvmax\u001b[49m\u001b[43m,\u001b[49m\n\u001b[32m   3610\u001b[39m \u001b[43m        \u001b[49m\u001b[43mcolorizer\u001b[49m\u001b[43m=\u001b[49m\u001b[43mcolorizer\u001b[49m\u001b[43m,\u001b[49m\n\u001b[32m   3611\u001b[39m \u001b[43m        \u001b[49m\u001b[43morigin\u001b[49m\u001b[43m=\u001b[49m\u001b[43morigin\u001b[49m\u001b[43m,\u001b[49m\n\u001b[32m   3612\u001b[39m \u001b[43m        \u001b[49m\u001b[43mextent\u001b[49m\u001b[43m=\u001b[49m\u001b[43mextent\u001b[49m\u001b[43m,\u001b[49m\n\u001b[32m   3613\u001b[39m \u001b[43m        \u001b[49m\u001b[43minterpolation_stage\u001b[49m\u001b[43m=\u001b[49m\u001b[43minterpolation_stage\u001b[49m\u001b[43m,\u001b[49m\n\u001b[32m   3614\u001b[39m \u001b[43m        \u001b[49m\u001b[43mfilternorm\u001b[49m\u001b[43m=\u001b[49m\u001b[43mfilternorm\u001b[49m\u001b[43m,\u001b[49m\n\u001b[32m   3615\u001b[39m \u001b[43m        \u001b[49m\u001b[43mfilterrad\u001b[49m\u001b[43m=\u001b[49m\u001b[43mfilterrad\u001b[49m\u001b[43m,\u001b[49m\n\u001b[32m   3616\u001b[39m \u001b[43m        \u001b[49m\u001b[43mresample\u001b[49m\u001b[43m=\u001b[49m\u001b[43mresample\u001b[49m\u001b[43m,\u001b[49m\n\u001b[32m   3617\u001b[39m \u001b[43m        \u001b[49m\u001b[43murl\u001b[49m\u001b[43m=\u001b[49m\u001b[43murl\u001b[49m\u001b[43m,\u001b[49m\n\u001b[32m   3618\u001b[39m \u001b[43m        \u001b[49m\u001b[43m*\u001b[49m\u001b[43m*\u001b[49m\u001b[43m(\u001b[49m\u001b[43m{\u001b[49m\u001b[33;43m\"\u001b[39;49m\u001b[33;43mdata\u001b[39;49m\u001b[33;43m\"\u001b[39;49m\u001b[43m:\u001b[49m\u001b[43m \u001b[49m\u001b[43mdata\u001b[49m\u001b[43m}\u001b[49m\u001b[43m \u001b[49m\u001b[38;5;28;43;01mif\u001b[39;49;00m\u001b[43m \u001b[49m\u001b[43mdata\u001b[49m\u001b[43m \u001b[49m\u001b[38;5;129;43;01mis\u001b[39;49;00m\u001b[43m \u001b[49m\u001b[38;5;129;43;01mnot\u001b[39;49;00m\u001b[43m \u001b[49m\u001b[38;5;28;43;01mNone\u001b[39;49;00m\u001b[43m \u001b[49m\u001b[38;5;28;43;01melse\u001b[39;49;00m\u001b[43m \u001b[49m\u001b[43m{\u001b[49m\u001b[43m}\u001b[49m\u001b[43m)\u001b[49m\u001b[43m,\u001b[49m\n\u001b[32m   3619\u001b[39m \u001b[43m        \u001b[49m\u001b[43m*\u001b[49m\u001b[43m*\u001b[49m\u001b[43mkwargs\u001b[49m\u001b[43m,\u001b[49m\n\u001b[32m   3620\u001b[39m \u001b[43m    \u001b[49m\u001b[43m)\u001b[49m\n\u001b[32m   3621\u001b[39m     sci(__ret)\n\u001b[32m   3622\u001b[39m     \u001b[38;5;28;01mreturn\u001b[39;00m __ret\n",
            "\u001b[36mFile \u001b[39m\u001b[32md:\\connect_workspace\\pydemo\\.venv\\Lib\\site-packages\\matplotlib\\__init__.py:1524\u001b[39m, in \u001b[36m_preprocess_data.<locals>.inner\u001b[39m\u001b[34m(ax, data, *args, **kwargs)\u001b[39m\n\u001b[32m   1521\u001b[39m \u001b[38;5;129m@functools\u001b[39m.wraps(func)\n\u001b[32m   1522\u001b[39m \u001b[38;5;28;01mdef\u001b[39;00m\u001b[38;5;250m \u001b[39m\u001b[34minner\u001b[39m(ax, *args, data=\u001b[38;5;28;01mNone\u001b[39;00m, **kwargs):\n\u001b[32m   1523\u001b[39m     \u001b[38;5;28;01mif\u001b[39;00m data \u001b[38;5;129;01mis\u001b[39;00m \u001b[38;5;28;01mNone\u001b[39;00m:\n\u001b[32m-> \u001b[39m\u001b[32m1524\u001b[39m         \u001b[38;5;28;01mreturn\u001b[39;00m \u001b[43mfunc\u001b[49m\u001b[43m(\u001b[49m\n\u001b[32m   1525\u001b[39m \u001b[43m            \u001b[49m\u001b[43max\u001b[49m\u001b[43m,\u001b[49m\n\u001b[32m   1526\u001b[39m \u001b[43m            \u001b[49m\u001b[43m*\u001b[49m\u001b[38;5;28;43mmap\u001b[39;49m\u001b[43m(\u001b[49m\u001b[43mcbook\u001b[49m\u001b[43m.\u001b[49m\u001b[43msanitize_sequence\u001b[49m\u001b[43m,\u001b[49m\u001b[43m \u001b[49m\u001b[43margs\u001b[49m\u001b[43m)\u001b[49m\u001b[43m,\u001b[49m\n\u001b[32m   1527\u001b[39m \u001b[43m            \u001b[49m\u001b[43m*\u001b[49m\u001b[43m*\u001b[49m\u001b[43m{\u001b[49m\u001b[43mk\u001b[49m\u001b[43m:\u001b[49m\u001b[43m \u001b[49m\u001b[43mcbook\u001b[49m\u001b[43m.\u001b[49m\u001b[43msanitize_sequence\u001b[49m\u001b[43m(\u001b[49m\u001b[43mv\u001b[49m\u001b[43m)\u001b[49m\u001b[43m \u001b[49m\u001b[38;5;28;43;01mfor\u001b[39;49;00m\u001b[43m \u001b[49m\u001b[43mk\u001b[49m\u001b[43m,\u001b[49m\u001b[43m \u001b[49m\u001b[43mv\u001b[49m\u001b[43m \u001b[49m\u001b[38;5;129;43;01min\u001b[39;49;00m\u001b[43m \u001b[49m\u001b[43mkwargs\u001b[49m\u001b[43m.\u001b[49m\u001b[43mitems\u001b[49m\u001b[43m(\u001b[49m\u001b[43m)\u001b[49m\u001b[43m}\u001b[49m\u001b[43m)\u001b[49m\n\u001b[32m   1529\u001b[39m     bound = new_sig.bind(ax, *args, **kwargs)\n\u001b[32m   1530\u001b[39m     auto_label = (bound.arguments.get(label_namer)\n\u001b[32m   1531\u001b[39m                   \u001b[38;5;129;01mor\u001b[39;00m bound.kwargs.get(label_namer))\n",
            "\u001b[36mFile \u001b[39m\u001b[32md:\\connect_workspace\\pydemo\\.venv\\Lib\\site-packages\\matplotlib\\axes\\_axes.py:5982\u001b[39m, in \u001b[36mAxes.imshow\u001b[39m\u001b[34m(self, X, cmap, norm, aspect, interpolation, alpha, vmin, vmax, colorizer, origin, extent, interpolation_stage, filternorm, filterrad, resample, url, **kwargs)\u001b[39m\n\u001b[32m   5979\u001b[39m \u001b[38;5;28;01mif\u001b[39;00m aspect \u001b[38;5;129;01mis\u001b[39;00m \u001b[38;5;129;01mnot\u001b[39;00m \u001b[38;5;28;01mNone\u001b[39;00m:\n\u001b[32m   5980\u001b[39m     \u001b[38;5;28mself\u001b[39m.set_aspect(aspect)\n\u001b[32m-> \u001b[39m\u001b[32m5982\u001b[39m \u001b[43mim\u001b[49m\u001b[43m.\u001b[49m\u001b[43mset_data\u001b[49m\u001b[43m(\u001b[49m\u001b[43mX\u001b[49m\u001b[43m)\u001b[49m\n\u001b[32m   5983\u001b[39m im.set_alpha(alpha)\n\u001b[32m   5984\u001b[39m \u001b[38;5;28;01mif\u001b[39;00m im.get_clip_path() \u001b[38;5;129;01mis\u001b[39;00m \u001b[38;5;28;01mNone\u001b[39;00m:\n\u001b[32m   5985\u001b[39m     \u001b[38;5;66;03m# image does not already have clipping set, clip to Axes patch\u001b[39;00m\n",
            "\u001b[36mFile \u001b[39m\u001b[32md:\\connect_workspace\\pydemo\\.venv\\Lib\\site-packages\\matplotlib\\image.py:685\u001b[39m, in \u001b[36m_ImageBase.set_data\u001b[39m\u001b[34m(self, A)\u001b[39m\n\u001b[32m    683\u001b[39m \u001b[38;5;28;01mif\u001b[39;00m \u001b[38;5;28misinstance\u001b[39m(A, PIL.Image.Image):\n\u001b[32m    684\u001b[39m     A = pil_to_array(A)  \u001b[38;5;66;03m# Needed e.g. to apply png palette.\u001b[39;00m\n\u001b[32m--> \u001b[39m\u001b[32m685\u001b[39m \u001b[38;5;28mself\u001b[39m._A = \u001b[38;5;28;43mself\u001b[39;49m\u001b[43m.\u001b[49m\u001b[43m_normalize_image_array\u001b[49m\u001b[43m(\u001b[49m\u001b[43mA\u001b[49m\u001b[43m)\u001b[49m\n\u001b[32m    686\u001b[39m \u001b[38;5;28mself\u001b[39m._imcache = \u001b[38;5;28;01mNone\u001b[39;00m\n\u001b[32m    687\u001b[39m \u001b[38;5;28mself\u001b[39m.stale = \u001b[38;5;28;01mTrue\u001b[39;00m\n",
            "\u001b[36mFile \u001b[39m\u001b[32md:\\connect_workspace\\pydemo\\.venv\\Lib\\site-packages\\matplotlib\\image.py:646\u001b[39m, in \u001b[36m_ImageBase._normalize_image_array\u001b[39m\u001b[34m(A)\u001b[39m\n\u001b[32m    640\u001b[39m \u001b[38;5;129m@staticmethod\u001b[39m\n\u001b[32m    641\u001b[39m \u001b[38;5;28;01mdef\u001b[39;00m\u001b[38;5;250m \u001b[39m\u001b[34m_normalize_image_array\u001b[39m(A):\n\u001b[32m    642\u001b[39m \u001b[38;5;250m    \u001b[39m\u001b[33;03m\"\"\"\u001b[39;00m\n\u001b[32m    643\u001b[39m \u001b[33;03m    Check validity of image-like input *A* and normalize it to a format suitable for\u001b[39;00m\n\u001b[32m    644\u001b[39m \u001b[33;03m    Image subclasses.\u001b[39;00m\n\u001b[32m    645\u001b[39m \u001b[33;03m    \"\"\"\u001b[39;00m\n\u001b[32m--> \u001b[39m\u001b[32m646\u001b[39m     A = \u001b[43mcbook\u001b[49m\u001b[43m.\u001b[49m\u001b[43msafe_masked_invalid\u001b[49m\u001b[43m(\u001b[49m\u001b[43mA\u001b[49m\u001b[43m,\u001b[49m\u001b[43m \u001b[49m\u001b[43mcopy\u001b[49m\u001b[43m=\u001b[49m\u001b[38;5;28;43;01mTrue\u001b[39;49;00m\u001b[43m)\u001b[49m\n\u001b[32m    647\u001b[39m     \u001b[38;5;28;01mif\u001b[39;00m A.dtype != np.uint8 \u001b[38;5;129;01mand\u001b[39;00m \u001b[38;5;129;01mnot\u001b[39;00m np.can_cast(A.dtype, \u001b[38;5;28mfloat\u001b[39m, \u001b[33m\"\u001b[39m\u001b[33msame_kind\u001b[39m\u001b[33m\"\u001b[39m):\n\u001b[32m    648\u001b[39m         \u001b[38;5;28;01mraise\u001b[39;00m \u001b[38;5;167;01mTypeError\u001b[39;00m(\u001b[33mf\u001b[39m\u001b[33m\"\u001b[39m\u001b[33mImage data of dtype \u001b[39m\u001b[38;5;132;01m{\u001b[39;00mA.dtype\u001b[38;5;132;01m}\u001b[39;00m\u001b[33m cannot be \u001b[39m\u001b[33m\"\u001b[39m\n\u001b[32m    649\u001b[39m                         \u001b[33mf\u001b[39m\u001b[33m\"\u001b[39m\u001b[33mconverted to float\u001b[39m\u001b[33m\"\u001b[39m)\n",
            "\u001b[36mFile \u001b[39m\u001b[32md:\\connect_workspace\\pydemo\\.venv\\Lib\\site-packages\\matplotlib\\cbook.py:684\u001b[39m, in \u001b[36msafe_masked_invalid\u001b[39m\u001b[34m(x, copy)\u001b[39m\n\u001b[32m    683\u001b[39m \u001b[38;5;28;01mdef\u001b[39;00m\u001b[38;5;250m \u001b[39m\u001b[34msafe_masked_invalid\u001b[39m(x, copy=\u001b[38;5;28;01mFalse\u001b[39;00m):\n\u001b[32m--> \u001b[39m\u001b[32m684\u001b[39m     x = \u001b[43mnp\u001b[49m\u001b[43m.\u001b[49m\u001b[43marray\u001b[49m\u001b[43m(\u001b[49m\u001b[43mx\u001b[49m\u001b[43m,\u001b[49m\u001b[43m \u001b[49m\u001b[43msubok\u001b[49m\u001b[43m=\u001b[49m\u001b[38;5;28;43;01mTrue\u001b[39;49;00m\u001b[43m,\u001b[49m\u001b[43m \u001b[49m\u001b[43mcopy\u001b[49m\u001b[43m=\u001b[49m\u001b[43mcopy\u001b[49m\u001b[43m)\u001b[49m\n\u001b[32m    685\u001b[39m     \u001b[38;5;28;01mif\u001b[39;00m \u001b[38;5;129;01mnot\u001b[39;00m x.dtype.isnative:\n\u001b[32m    686\u001b[39m         \u001b[38;5;66;03m# If we have already made a copy, do the byteswap in place, else make a\u001b[39;00m\n\u001b[32m    687\u001b[39m         \u001b[38;5;66;03m# copy with the byte order swapped.\u001b[39;00m\n\u001b[32m    688\u001b[39m         \u001b[38;5;66;03m# Swap to native order.\u001b[39;00m\n\u001b[32m    689\u001b[39m         x = x.byteswap(inplace=copy).view(x.dtype.newbyteorder(\u001b[33m'\u001b[39m\u001b[33mN\u001b[39m\u001b[33m'\u001b[39m))\n",
            "\u001b[36mFile \u001b[39m\u001b[32md:\\connect_workspace\\pydemo\\.venv\\Lib\\site-packages\\torch\\_tensor.py:1062\u001b[39m, in \u001b[36mTensor.__array__\u001b[39m\u001b[34m(self, dtype)\u001b[39m\n\u001b[32m   1060\u001b[39m     \u001b[38;5;28;01mreturn\u001b[39;00m handle_torch_function(Tensor.__array__, (\u001b[38;5;28mself\u001b[39m,), \u001b[38;5;28mself\u001b[39m, dtype=dtype)\n\u001b[32m   1061\u001b[39m \u001b[38;5;28;01mif\u001b[39;00m dtype \u001b[38;5;129;01mis\u001b[39;00m \u001b[38;5;28;01mNone\u001b[39;00m:\n\u001b[32m-> \u001b[39m\u001b[32m1062\u001b[39m     \u001b[38;5;28;01mreturn\u001b[39;00m \u001b[38;5;28;43mself\u001b[39;49m\u001b[43m.\u001b[49m\u001b[43mnumpy\u001b[49m\u001b[43m(\u001b[49m\u001b[43m)\u001b[49m\n\u001b[32m   1063\u001b[39m \u001b[38;5;28;01melse\u001b[39;00m:\n\u001b[32m   1064\u001b[39m     \u001b[38;5;28;01mreturn\u001b[39;00m \u001b[38;5;28mself\u001b[39m.numpy().astype(dtype, copy=\u001b[38;5;28;01mFalse\u001b[39;00m)\n",
            "\u001b[31mRuntimeError\u001b[39m: Numpy is not available"
          ]
        },
        {
          "data": {
            "image/png": "[encoded data removed]",
            "text/plain": [
              "<Figure size 1500x1200 with 1 Axes>"
            ]
          },
          "metadata": {},
          "output_type": "display_data"
        }
      ],
      "source": [
        "\n",
        "# Visualize the count matrix before conversion to probabilities\n",
        "print(f\"\\n📊 Visualizing bigram count matrix with actual counts...\")\n",
        "plt.figure(figsize=(15, 12))\n",
        "\n",
        "# Display the count matrix in green\n",
        "im = plt.imshow(N, cmap='Greens', interpolation='nearest')\n",
        "plt.colorbar(im, label='Count')\n",
        "plt.title('Bigram Count Matrix (Raw Counts with Values)', fontsize=16, fontweight='bold')\n",
        "plt.xlabel('Next Character', fontsize=12)\n",
        "plt.ylabel('Current Character', fontsize=12)\n",
        "\n",
        "# Add character labels on axes\n",
        "plt.xticks(range(len(itos)), [itos[i] for i in range(len(itos))], rotation=90)\n",
        "plt.yticks(range(len(itos)), [itos[i] for i in range(len(itos))])\n",
        "\n",
        "# Add count numbers directly on each cell\n",
        "for i in range(len(itos)):\n",
        "    for j in range(len(itos)):\n",
        "        count = N[i, j].item()\n",
        "        if count > 0:  # Only show non-zero counts to avoid clutter\n",
        "            # Choose text color based on background intensity\n",
        "            text_color = 'white' if count > N.max().item() * 0.6 else 'black'\n",
        "            plt.text(j, i, str(count), ha='center', va='center', \n",
        "                    fontsize=8, color=text_color, fontweight='bold')\n",
        "\n",
        "# Add grid for better readability\n",
        "plt.grid(True, alpha=0.3, color='white', linewidth=0.5)\n",
        "\n",
        "# Show some statistics on the plot\n",
        "total_counts = N.sum().item()\n",
        "max_count = N.max().item()\n",
        "plt.figtext(0.02, 0.02, f'Total bigrams: {total_counts:,}\\nMax count: {max_count}\\nShowing actual count values', \n",
        "           bbox=dict(boxstyle=\"round,pad=0.3\", facecolor=\"lightgreen\", alpha=0.8))\n",
        "\n",
        "plt.tight_layout()\n",
        "plt.show()\n",
        "\n",
        "print(f\"📈 Count Matrix Statistics:\")\n",
        "print(f\"   • Total bigrams: {total_counts:,}\")\n",
        "print(f\"   • Maximum count: {max_count} (most frequent bigram)\")\n",
        "print(f\"   • Matrix size: {N.shape[0]}×{N.shape[1]} ({vocab_size} characters)\")\n"
      ]
    },
    {
      "cell_type": "markdown",
      "metadata": {},
      "source": [
        "#### Convert to probabilities with smoothing"
      ]
    },
    {
      "cell_type": "code",
      "execution_count": 26,
      "metadata": {},
      "outputs": [
        {
          "name": "stdout",
          "output_type": "stream",
          "text": [
            "\n",
            "🎯 Converting to probabilities with add-1 smoothing...\n",
            "✅ Probability matrix P1: torch.Size([27, 27])\n",
            "   Each row sums to 1.0: tensor([1., 1., 1.])\n"
          ]
        }
      ],
      "source": [
        "# Convert to probabilities with smoothing\n",
        "# add-1 smoothing is a technique used to avoid zero probabilities in probability distributions.\n",
        "# discourages the model from becoming overly confident where the count is zero\n",
        "\n",
        "#broadcasting\n",
        "# P1.sum(1, keepdims=True) is a broadcasting operation that sums the rows of the matrix P1.\n",
        "# The keepdims=True argument ensures that the result is a 2D array with the same shape as P1.\n",
        "\n",
        "# P1 / P1.sum(1, keepdims=True) is a broadcasting operation that divides the matrix P1 by the sum of each row.\n",
        "# The result is a 2D array with the same shape as P1, but with the division of each row by the sum of that row.\n",
        "\n",
        "print(f\"\\n🎯 Converting to probabilities with add-1 smoothing...\")\n",
        "P1 = (N + 1).float()                                    # discourages the model from becoming overly confident where the count is zero\n",
        "P1 = P1 / P1.sum(1, keepdims=True)\n",
        "\n",
        "print(f\"✅ Probability matrix P1: {P1.shape}\")\n",
        "print(f\"   Each row sums to 1.0: {P1.sum(1)[:3]}\")"
      ]
    },
    {
      "cell_type": "markdown",
      "metadata": {},
      "source": [
        "#### Calculate loss (Negative Log-Likelihood)"
      ]
    },
    {
      "cell_type": "code",
      "execution_count": 27,
      "metadata": {},
      "outputs": [
        {
          "name": "stdout",
          "output_type": "stream",
          "text": [
            "\n",
            "📉 Model 1 Results:\n",
            "   Training Loss: 2.4705\n",
            "   Validation Loss: 2.4600\n"
          ]
        }
      ],
      "source": [
        "# Calculate loss (Negative Log-Likelihood)\n",
        "def evaluate_count_model(words_list, P, stoi, model_name):\n",
        "    log_likelihood = 0.0\n",
        "    n = 0\n",
        "    \n",
        "    for w in words_list:\n",
        "        chs = ['.'] + list(w) + ['.']\n",
        "        for ch1, ch2 in zip(chs, chs[1:]):\n",
        "            ix1 = stoi[ch1]\n",
        "            ix2 = stoi[ch2]\n",
        "            prob = P[ix1, ix2]\n",
        "            log_likelihood += torch.log(prob)\n",
        "            n += 1\n",
        "    \n",
        "    nll = -log_likelihood\n",
        "    avg_nll = nll / n   #average negative log-likelihood\n",
        "    return avg_nll.item()\n",
        "\n",
        "# Evaluate on different sets\n",
        "train_loss_1 = evaluate_count_model(train_words, P1, stoi, \"Count-based\")\n",
        "val_loss_1 = evaluate_count_model(val_words, P1, stoi, \"Count-based\")\n",
        "\n",
        "print(f\"\\n📉 Model 1 Results:\")\n",
        "print(f\"   Training Loss: {train_loss_1:.4f}\")\n",
        "print(f\"   Validation Loss: {val_loss_1:.4f}\")\n"
      ]
    },
    {
      "cell_type": "markdown",
      "metadata": {},
      "source": [
        "### Generate names (Sampling from Probabilities)"
      ]
    },
    {
      "cell_type": "code",
      "execution_count": 28,
      "metadata": {},
      "outputs": [
        {
          "name": "stdout",
          "output_type": "stream",
          "text": [
            "\n",
            "✨ Model 1 Generated Names:\n",
            "    1. ya\n",
            "    2. syahavilin\n",
            "    3. dleekasm\n",
            "    4. minnya\n",
            "    5. tryawe\n",
            "    6. chen\n",
            "    7. ena\n",
            "    8. da\n",
            "    9. amiiae\n",
            "   10. a\n",
            "   11. keles\n",
            "   12. ld\n",
            "   13. a\n",
            "   14. oy\n",
            "   15. ashuki\n"
          ]
        }
      ],
      "source": [
        "\n",
        "\n",
        "# Generate names\n",
        "def generate_count_based(P, itos, stoi, num_samples=10, seed=42):\n",
        "    g = torch.Generator().manual_seed(seed)\n",
        "    names = []\n",
        "    \n",
        "    for i in range(num_samples):\n",
        "        out = []\n",
        "        ix = 0  # start with '.'\n",
        "        \n",
        "        while True:\n",
        "            p = P[ix]\n",
        "            ix = torch.multinomial(p, num_samples=1, replacement=True, generator=g).item()\n",
        "            if ix == 0:  # stop at end token\n",
        "                break\n",
        "            out.append(itos[ix])\n",
        "        \n",
        "        names.append(''.join(out))\n",
        "    \n",
        "    return names\n",
        "\n",
        "names_1 = generate_count_based(P1, itos, stoi, num_samples=15, seed=42)\n",
        "print(f\"\\n✨ Model 1 Generated Names:\")\n",
        "for i, name in enumerate(names_1, 1):\n",
        "    print(f\"   {i:2d}. {name}\")\n",
        "\n"
      ]
    },
    {
      "cell_type": "markdown",
      "metadata": {},
      "source": [
        "### Model 1 Summary"
      ]
    },
    {
      "cell_type": "code",
      "execution_count": 29,
      "metadata": {},
      "outputs": [
        {
          "name": "stdout",
          "output_type": "stream",
          "text": [
            "\n",
            "📊 Model 1 Summary:\n",
            "   • Approach: Frequency counts + smoothing\n",
            "   • Parameters: 27×27 probability matrix\n",
            "   • Training: None required (just counting)\n",
            "   • Training Loss: 2.4705\n",
            "   • Validation Loss: 2.4600\n"
          ]
        }
      ],
      "source": [
        "print(f\"\\n📊 Model 1 Summary:\")\n",
        "print(f\"   • Approach: Frequency counts + smoothing\")\n",
        "print(f\"   • Parameters: {vocab_size}×{vocab_size} probability matrix\")\n",
        "print(f\"   • Training: None required (just counting)\")\n",
        "print(f\"   • Training Loss: {train_loss_1:.4f}\")\n",
        "print(f\"   • Validation Loss: {val_loss_1:.4f}\")"
      ]
    },
    {
      "cell_type": "markdown",
      "metadata": {},
      "source": [
        "# Model 2: Neural Bigram Model\n",
        "-  learns a weight matrix through gradient descent to predict the next character. It should converge to similar statistics as the count-based model.\n"
      ]
    },
    {
      "cell_type": "markdown",
      "metadata": {},
      "source": [
        "### Create training dataset\n",
        "\n",
        "- `hello`\n",
        "\n",
        "- `. → h`\n",
        "- `h → e`\n",
        "- `e → l`\n",
        "- `l → l`\n",
        "- `l → o`\n",
        "- `o → .`\n",
        " "
      ]
    },
    {
      "cell_type": "code",
      "execution_count": null,
      "metadata": {},
      "outputs": [
        {
          "name": "stdout",
          "output_type": "stream",
          "text": [
            "🔍 Sample input vs true label mappings (index → character):\n",
            " 0 (.) → 18 (r)\n",
            " 18 (r) → 1 (a)\n",
            " 1 (a) → 10 (j)\n",
            " 10 (j) → 11 (k)\n",
            " 11 (k) → 21 (u)\n",
            "📊 Neural bigram dataset:\n",
            "   Training: 261746 examples\n",
            "   Test: 32628 examples\n",
            "   Validation: 32704 examples\n"
          ]
        }
      ],
      "source": [
        "# Create training dataset\n",
        "def create_bigram_dataset(words_list, stoi):\n",
        "    xs, ys = [], []\n",
        "    for w in words_list:\n",
        "        chs = ['.'] + list(w) + ['.']\n",
        "        for ch1, ch2 in zip(chs, chs[1:]):\n",
        "            ix1 = stoi[ch1]\n",
        "            ix2 = stoi[ch2]\n",
        "            xs.append(ix1)\n",
        "            ys.append(ix2)\n",
        "    return torch.tensor(xs), torch.tensor(ys)\n",
        "\n",
        "\n",
        "# Create datasets\n",
        "Xtr, Ytr = create_bigram_dataset(train_words, stoi)\n",
        "Xte, Yte = create_bigram_dataset(test_words, stoi)\n",
        "Xval, Yval = create_bigram_dataset(val_words, stoi)\n",
        "\n",
        "\n",
        "print(\"🔍 Sample input vs true label mappings (index → character):\")\n",
        "for i in range(5): \n",
        "    ix_input = Xtr[i].item()\n",
        "    ix_target = Ytr[i].item()\n",
        "    ch_input = itos[ix_input]\n",
        "    ch_target = itos[ix_target]\n",
        "    print(f\" {ix_input} ({ch_input}) → {ix_target} ({ch_target})\")\n",
        "\n",
        "\n",
        "print(f\"📊 Neural bigram dataset:\")\n",
        "print(f\"   Training: {Xtr.shape[0]} examples\")\n",
        "print(f\"   Test: {Xte.shape[0]} examples\")\n",
        "print(f\"   Validation: {Xval.shape[0]} examples\")\n",
        "\n"
      ]
    },
    {
      "cell_type": "markdown",
      "metadata": {},
      "source": [
        "### Initialize neural network"
      ]
    },
    {
      "cell_type": "code",
      "execution_count": null,
      "metadata": {},
      "outputs": [
        {
          "name": "stdout",
          "output_type": "stream",
          "text": [
            "\n",
            "⚙️ Neural network initialized:\n",
            "   Weight matrix W2: torch.Size([27, 27])    Parameters: 729\n",
            "   xenc: torch.Size([261746, 27])\n"
          ]
        }
      ],
      "source": [
        "# Initialize neural network\n",
        "g = torch.Generator().manual_seed(2147483647)\n",
        "\n",
        "\n",
        "xenc = F.one_hot(Xtr, num_classes=vocab_size).float()                       # one-hot encoding of the input\n",
        "W2 = torch.randn((vocab_size, vocab_size), generator=g, requires_grad=True) # random initialization of the weights learnable params\n",
        "\n",
        "print(f\"\\n⚙️ Neural network initialized:\")\n",
        "print(f\"   Weight matrix W2: {W2.shape}    Parameters: {W2.nelement()}\")\n",
        "print(f\"   xenc: {xenc.shape}\")"
      ]
    },
    {
      "cell_type": "markdown",
      "metadata": {},
      "source": [
        "### Training loop"
      ]
    },
    {
      "cell_type": "code",
      "execution_count": null,
      "metadata": {},
      "outputs": [
        {
          "name": "stdout",
          "output_type": "stream",
          "text": [
            "\n",
            "🚀 Training neural bigram model...\n",
            "   Epoch   0/2000: Train Loss = 3.7561\n"
          ]
        },
        {
          "ename": "KeyboardInterrupt",
          "evalue": "",
          "output_type": "error",
          "traceback": [
            "\u001b[31m---------------------------------------------------------------------------\u001b[39m",
            "\u001b[31mKeyboardInterrupt\u001b[39m                         Traceback (most recent call last)",
            "\u001b[36mCell\u001b[39m\u001b[36m \u001b[39m\u001b[32mIn[20]\u001b[39m\u001b[32m, line 24\u001b[39m\n\u001b[32m     22\u001b[39m \u001b[38;5;66;03m# Backward pass\u001b[39;00m\n\u001b[32m     23\u001b[39m W2.grad = \u001b[38;5;28;01mNone\u001b[39;00m\n\u001b[32m---> \u001b[39m\u001b[32m24\u001b[39m \u001b[43mloss\u001b[49m\u001b[43m.\u001b[49m\u001b[43mbackward\u001b[49m\u001b[43m(\u001b[49m\u001b[43m)\u001b[49m\n\u001b[32m     25\u001b[39m W2.data += -learning_rate * W2.grad\n\u001b[32m     27\u001b[39m \u001b[38;5;28;01mif\u001b[39;00m epoch % \u001b[32m500\u001b[39m == \u001b[32m0\u001b[39m \u001b[38;5;129;01mor\u001b[39;00m epoch == num_epochs - \u001b[32m1\u001b[39m:\n",
            "\u001b[36mFile \u001b[39m\u001b[32md:\\connect_workspace\\pydemo\\.venv\\Lib\\site-packages\\torch\\_tensor.py:648\u001b[39m, in \u001b[36mTensor.backward\u001b[39m\u001b[34m(self, gradient, retain_graph, create_graph, inputs)\u001b[39m\n\u001b[32m    638\u001b[39m \u001b[38;5;28;01mif\u001b[39;00m has_torch_function_unary(\u001b[38;5;28mself\u001b[39m):\n\u001b[32m    639\u001b[39m     \u001b[38;5;28;01mreturn\u001b[39;00m handle_torch_function(\n\u001b[32m    640\u001b[39m         Tensor.backward,\n\u001b[32m    641\u001b[39m         (\u001b[38;5;28mself\u001b[39m,),\n\u001b[32m   (...)\u001b[39m\u001b[32m    646\u001b[39m         inputs=inputs,\n\u001b[32m    647\u001b[39m     )\n\u001b[32m--> \u001b[39m\u001b[32m648\u001b[39m \u001b[43mtorch\u001b[49m\u001b[43m.\u001b[49m\u001b[43mautograd\u001b[49m\u001b[43m.\u001b[49m\u001b[43mbackward\u001b[49m\u001b[43m(\u001b[49m\n\u001b[32m    649\u001b[39m \u001b[43m    \u001b[49m\u001b[38;5;28;43mself\u001b[39;49m\u001b[43m,\u001b[49m\u001b[43m \u001b[49m\u001b[43mgradient\u001b[49m\u001b[43m,\u001b[49m\u001b[43m \u001b[49m\u001b[43mretain_graph\u001b[49m\u001b[43m,\u001b[49m\u001b[43m \u001b[49m\u001b[43mcreate_graph\u001b[49m\u001b[43m,\u001b[49m\u001b[43m \u001b[49m\u001b[43minputs\u001b[49m\u001b[43m=\u001b[49m\u001b[43minputs\u001b[49m\n\u001b[32m    650\u001b[39m \u001b[43m\u001b[49m\u001b[43m)\u001b[49m\n",
            "\u001b[36mFile \u001b[39m\u001b[32md:\\connect_workspace\\pydemo\\.venv\\Lib\\site-packages\\torch\\autograd\\__init__.py:353\u001b[39m, in \u001b[36mbackward\u001b[39m\u001b[34m(tensors, grad_tensors, retain_graph, create_graph, grad_variables, inputs)\u001b[39m\n\u001b[32m    348\u001b[39m     retain_graph = create_graph\n\u001b[32m    350\u001b[39m \u001b[38;5;66;03m# The reason we repeat the same comment below is that\u001b[39;00m\n\u001b[32m    351\u001b[39m \u001b[38;5;66;03m# some Python versions print out the first line of a multi-line function\u001b[39;00m\n\u001b[32m    352\u001b[39m \u001b[38;5;66;03m# calls in the traceback and some print out the last line\u001b[39;00m\n\u001b[32m--> \u001b[39m\u001b[32m353\u001b[39m \u001b[43m_engine_run_backward\u001b[49m\u001b[43m(\u001b[49m\n\u001b[32m    354\u001b[39m \u001b[43m    \u001b[49m\u001b[43mtensors\u001b[49m\u001b[43m,\u001b[49m\n\u001b[32m    355\u001b[39m \u001b[43m    \u001b[49m\u001b[43mgrad_tensors_\u001b[49m\u001b[43m,\u001b[49m\n\u001b[32m    356\u001b[39m \u001b[43m    \u001b[49m\u001b[43mretain_graph\u001b[49m\u001b[43m,\u001b[49m\n\u001b[32m    357\u001b[39m \u001b[43m    \u001b[49m\u001b[43mcreate_graph\u001b[49m\u001b[43m,\u001b[49m\n\u001b[32m    358\u001b[39m \u001b[43m    \u001b[49m\u001b[43minputs\u001b[49m\u001b[43m,\u001b[49m\n\u001b[32m    359\u001b[39m \u001b[43m    \u001b[49m\u001b[43mallow_unreachable\u001b[49m\u001b[43m=\u001b[49m\u001b[38;5;28;43;01mTrue\u001b[39;49;00m\u001b[43m,\u001b[49m\n\u001b[32m    360\u001b[39m \u001b[43m    \u001b[49m\u001b[43maccumulate_grad\u001b[49m\u001b[43m=\u001b[49m\u001b[38;5;28;43;01mTrue\u001b[39;49;00m\u001b[43m,\u001b[49m\n\u001b[32m    361\u001b[39m \u001b[43m\u001b[49m\u001b[43m)\u001b[49m\n",
            "\u001b[36mFile \u001b[39m\u001b[32md:\\connect_workspace\\pydemo\\.venv\\Lib\\site-packages\\torch\\autograd\\graph.py:824\u001b[39m, in \u001b[36m_engine_run_backward\u001b[39m\u001b[34m(t_outputs, *args, **kwargs)\u001b[39m\n\u001b[32m    822\u001b[39m     unregister_hooks = _register_logging_hooks_on_whole_graph(t_outputs)\n\u001b[32m    823\u001b[39m \u001b[38;5;28;01mtry\u001b[39;00m:\n\u001b[32m--> \u001b[39m\u001b[32m824\u001b[39m     \u001b[38;5;28;01mreturn\u001b[39;00m \u001b[43mVariable\u001b[49m\u001b[43m.\u001b[49m\u001b[43m_execution_engine\u001b[49m\u001b[43m.\u001b[49m\u001b[43mrun_backward\u001b[49m\u001b[43m(\u001b[49m\u001b[43m  \u001b[49m\u001b[38;5;66;43;03m# Calls into the C++ engine to run the backward pass\u001b[39;49;00m\n\u001b[32m    825\u001b[39m \u001b[43m        \u001b[49m\u001b[43mt_outputs\u001b[49m\u001b[43m,\u001b[49m\u001b[43m \u001b[49m\u001b[43m*\u001b[49m\u001b[43margs\u001b[49m\u001b[43m,\u001b[49m\u001b[43m \u001b[49m\u001b[43m*\u001b[49m\u001b[43m*\u001b[49m\u001b[43mkwargs\u001b[49m\n\u001b[32m    826\u001b[39m \u001b[43m    \u001b[49m\u001b[43m)\u001b[49m  \u001b[38;5;66;03m# Calls into the C++ engine to run the backward pass\u001b[39;00m\n\u001b[32m    827\u001b[39m \u001b[38;5;28;01mfinally\u001b[39;00m:\n\u001b[32m    828\u001b[39m     \u001b[38;5;28;01mif\u001b[39;00m attach_logging_hooks:\n",
            "\u001b[31mKeyboardInterrupt\u001b[39m: "
          ]
        }
      ],
      "source": [
        "# Training loop\n",
        "print(f\"\\n🚀 Training neural bigram model...\")\n",
        "losses_2 = []\n",
        "num_epochs = 2000\n",
        "learning_rate = 50\n",
        "\n",
        "for epoch in range(num_epochs):\n",
        "    # Forward pass\n",
        "    \n",
        "    # Process ALL 261746 examples at once \n",
        "    logits = xenc @ W2     # logits is the output of the neural network\n",
        "    \n",
        "    # Convert to probabilities using softmax (via exp + normalize)\n",
        "    counts = logits.exp()   # element-wise exponential\n",
        "    probs = counts / counts.sum(1, keepdims=True) # row-wise normalization to get probabilities\n",
        "    \n",
        "    # Training loss\n",
        "    loss = -probs[torch.arange(Xtr.nelement()), Ytr].log().mean() # Negative log-likelihood ,  cross-entropy loss\n",
        "    loss += 0.01 * (W2**2).mean()  # L2 regularization\n",
        "    losses_2.append(loss.item())\n",
        "    \n",
        "    # Backward pass\n",
        "    W2.grad = None\n",
        "    loss.backward()\n",
        "    W2.data += -learning_rate * W2.grad\n",
        "    \n",
        "    if epoch % 500 == 0 or epoch == num_epochs - 1:\n",
        "        print(f\"   Epoch {epoch:3d}/{num_epochs}: Train Loss = {loss.item():.4f}\")\n",
        "\n",
        "\n",
        "\n",
        "\n",
        "\n",
        "print(f\"\\n✅ Training completed successfully!\")\n",
        "print(f\"   📈 Total epochs: {num_epochs}\")\n",
        "print(f\"   📉 Final training loss: {losses_2[-1]:.4f}\")\n",
        "print(f\"   ⏳ Now calculating validation loss on trained model...\")\n",
        "\n",
        "\n",
        "# Plot training curve (training progress only)\n",
        "plt.figure(figsize=(10, 6))\n",
        "plt.plot(losses_2, label='Training Loss', alpha=0.8, linewidth=2, color='coral')\n",
        "plt.title('Model 2: Neural Bigram Training Progress')\n",
        "plt.xlabel('Epoch')\n",
        "plt.ylabel('Loss')\n",
        "plt.legend()\n",
        "plt.grid(True, alpha=0.3)\n",
        "plt.show()"
      ]
    },
    {
      "cell_type": "markdown",
      "metadata": {},
      "source": [
        "### Final evaluation - Calculate loss on test & validation data"
      ]
    },
    {
      "cell_type": "code",
      "execution_count": null,
      "metadata": {},
      "outputs": [
        {
          "name": "stdout",
          "output_type": "stream",
          "text": [
            "\n",
            "🎯 Evaluating trained model on validation data...\n",
            "\n",
            "📉 Model 2 Final Results (After Training):\n",
            "   Test Loss: 2.4714\n",
            "   Validation Loss: 2.4648\n"
          ]
        }
      ],
      "source": [
        "# Final evaluation - Calculate validation loss on fully trained model\n",
        "print(f\"\\n🎯 Evaluating trained model on validation data...\")\n",
        "with torch.no_grad():\n",
        "    # Training set evaluation\n",
        "    xenc = F.one_hot(Xte, num_classes=vocab_size).float()\n",
        "    logits = xenc @ W2\n",
        "    counts = logits.exp()\n",
        "    probs = counts / counts.sum(1, keepdims=True)\n",
        "    test_loss_2 = -probs[torch.arange(Xte.nelement()), Yte].log().mean().item()\n",
        "    \n",
        "    # Validation set evaluation (calculated AFTER training completion)\n",
        "    xenc_val = F.one_hot(Xval, num_classes=vocab_size).float()\n",
        "    logits_val = xenc_val @ W2\n",
        "    counts_val = logits_val.exp()\n",
        "    probs_val = counts_val / counts_val.sum(1, keepdims=True)\n",
        "    val_loss_2 = -probs_val[torch.arange(Xval.nelement()), Yval].log().mean().item()\n",
        "\n",
        "print(f\"\\n📉 Model 2 Final Results (After Training):\")\n",
        "print(f\"   Test Loss: {test_loss_2:.4f}\")\n",
        "print(f\"   Validation Loss: {val_loss_2:.4f}\")\n",
        "\n"
      ]
    },
    {
      "cell_type": "markdown",
      "metadata": {},
      "source": [
        "### Generate names "
      ]
    },
    {
      "cell_type": "code",
      "execution_count": null,
      "metadata": {},
      "outputs": [
        {
          "name": "stdout",
          "output_type": "stream",
          "text": [
            "\n",
            " Model 2 Generated Names:\n",
            "    1. anugurovi\n",
            "    2. s\n",
            "    3. mabidushan\n",
            "    4. shan\n",
            "    5. silaylelakemah\n",
            "    6. li\n",
            "    7. an\n",
            "    8. epiachaden\n",
            "    9. diza\n",
            "   10. k\n",
            "   11. pon\n",
            "   12. jondre\n",
            "   13. kan\n",
            "   14. k\n",
            "   15. miqulynabh\n"
          ]
        }
      ],
      "source": [
        "\n",
        "# Generate names\n",
        "def generate_neural_bigram(W, itos, stoi, vocab_size, num_samples=10, seed=42):\n",
        "    g = torch.Generator().manual_seed(seed)\n",
        "    names = []\n",
        "    \n",
        "    for i in range(num_samples):\n",
        "        out = []\n",
        "        ix = 0  # start with '.'\n",
        "        \n",
        "        while True:\n",
        "            xenc = F.one_hot(torch.tensor([ix]), num_classes=vocab_size).float()\n",
        "            logits = xenc @ W\n",
        "            counts = logits.exp()\n",
        "            p = counts / counts.sum(1, keepdims=True)\n",
        "            \n",
        "            ix = torch.multinomial(p, num_samples=1, replacement=True, generator=g).item() # sample from the distribution\n",
        "            if ix == 0:\n",
        "                break\n",
        "            out.append(itos[ix])\n",
        "        \n",
        "        names.append(''.join(out))\n",
        "    \n",
        "    return names\n",
        "\n",
        "names_2 = generate_neural_bigram(W2, itos, stoi, vocab_size, num_samples=15, seed=42)\n",
        "print(f\"\\n Model 2 Generated Names:\")\n",
        "for i, name in enumerate(names_2, 1):\n",
        "    print(f\"   {i:2d}. {name}\")\n",
        "\n",
        "\n"
      ]
    },
    {
      "cell_type": "markdown",
      "metadata": {},
      "source": [
        "### Model 2 Summary"
      ]
    },
    {
      "cell_type": "code",
      "execution_count": null,
      "metadata": {},
      "outputs": [
        {
          "name": "stdout",
          "output_type": "stream",
          "text": [
            "\n",
            "📊 Model 2 Summary:\n",
            "   • Approach: Neural network with gradient descent\n",
            "   • Parameters: 729 learnable weights\n",
            "   • Training: 2000 epochs\n",
            "   • Validation: Calculated post-training (clean assessment)\n",
            "   • Final Loss: 2.4648\n",
            "   • 🎯 Converged to similar performance as count-based model\n"
          ]
        }
      ],
      "source": [
        "print(f\"\\n📊 Model 2 Summary:\")\n",
        "print(f\"   • Approach: Neural network with gradient descent\")\n",
        "print(f\"   • Parameters: {W2.nelement()} learnable weights\")\n",
        "print(f\"   • Training: {num_epochs} epochs\")\n",
        "print(f\"   • Validation: Calculated post-training (clean assessment)\")\n",
        "print(f\"   • Final Loss: {val_loss_2:.4f}\")\n",
        "print(f\"   • 🎯 Converged to similar performance as count-based model\")"
      ]
    },
    {
      "cell_type": "markdown",
      "metadata": {},
      "source": [
        "### Alternative Implementation: Embedding Table + Adam Optimizer + CrossEntropyLoss\n",
        "\n",
        "- Alternative Approach: PyTorch Embedding Table - Converges Faster Due To:\n",
        "\n",
        "- 1. Adam Optimizer (adaptive learning rates + momentum) vs Manual SGD  \n",
        "- 2. CrossEntropyLoss (numerically stable) vs Manual negative log-likelihood\n",
        "- 3. No L2 regularization (Adam has implicit regularization) \n",
        "- 4. Efficient nn.Embedding lookup vs one-hot encoding + matrix multiply\n",
        "- 5. PyTorch autograd optimization vs manual gradient updates"
      ]
    },
    {
      "cell_type": "markdown",
      "metadata": {},
      "source": [
        "#### BigramEmbeddingModel"
      ]
    },
    {
      "cell_type": "code",
      "execution_count": null,
      "metadata": {},
      "outputs": [
        {
          "name": "stdout",
          "output_type": "stream",
          "text": [
            "   Embedding table: [27, 27] (27 chars -> 27 logits)\n",
            "   Total parameters: 729\n"
          ]
        }
      ],
      "source": [
        "class BigramEmbeddingModel(torch.nn.Module):\n",
        "    def __init__(self, vocab_size):\n",
        "        super().__init__()\n",
        "        # Embedding table of shape [vocab_size, vocab_size]\n",
        "        # Each character maps directly to a vocab_size dimensional vector (logits)\n",
        "        self.token_embedding_table = torch.nn.Embedding(vocab_size, vocab_size)\n",
        "    \n",
        "    def forward(self, idx):\n",
        "        # idx shape: (batch_size,) or (batch_size, seq_len)\n",
        "        logits = self.token_embedding_table(idx)  # shape: [batch_size, vocab_size]\n",
        "        return logits\n",
        "\n",
        "# Initialize model\n",
        "model_emb = BigramEmbeddingModel(vocab_size)\n",
        "\n",
        "\n",
        "print(f\"   Embedding table: {list(model_emb.token_embedding_table.weight.shape)} ({vocab_size} chars -> {vocab_size} logits)\")\n",
        "print(f\"   Total parameters: {sum(p.numel() for p in model_emb.parameters())}\")\n"
      ]
    },
    {
      "cell_type": "markdown",
      "metadata": {},
      "source": [
        "### Training setup"
      ]
    },
    {
      "cell_type": "code",
      "execution_count": null,
      "metadata": {},
      "outputs": [
        {
          "name": "stdout",
          "output_type": "stream",
          "text": [
            "\n",
            "🚀 Training PyTorch embedding model...\n",
            "   Epoch   0/100: Train Loss = 3.7165\n",
            "   Epoch  10/100: Train Loss = 2.8779\n",
            "   Epoch  20/100: Train Loss = 2.5859\n",
            "   Epoch  30/100: Train Loss = 2.5018\n",
            "   Epoch  40/100: Train Loss = 2.4869\n",
            "   Epoch  50/100: Train Loss = 2.4789\n",
            "   Epoch  60/100: Train Loss = 2.4756\n",
            "   Epoch  70/100: Train Loss = 2.4739\n",
            "   Epoch  80/100: Train Loss = 2.4730\n",
            "   Epoch  90/100: Train Loss = 2.4725\n",
            "   Epoch  99/100: Train Loss = 2.4721\n",
            "\n",
            "✅ PyTorch embedding training completed!\n"
          ]
        }
      ],
      "source": [
        "\n",
        "# Training setup\n",
        "optimizer = torch.optim.Adam(model_emb.parameters(), lr=0.1)\n",
        "loss_fn = torch.nn.CrossEntropyLoss()\n",
        "\n",
        "print(f\"\\n🚀 Training PyTorch embedding model...\")\n",
        "losses_2_emb = []\n",
        "num_epochs_emb = 100  # Fewer epochs with Adam optimizer\n",
        "\n",
        "\n",
        "for epoch in range(num_epochs_emb):\n",
        "    # Forward pass\n",
        "    logits = model_emb(Xtr)  # shape: [N, vocab_size]\n",
        "    loss = loss_fn(logits, Ytr)  # Cross-entropy loss\n",
        "    losses_2_emb.append(loss.item())\n",
        "    \n",
        "    # Backward pass\n",
        "    optimizer.zero_grad() # clear gradients\n",
        "    loss.backward() # compute gradients\n",
        "    optimizer.step() # update weights\n",
        "    \n",
        "    if epoch % 10 == 0 or epoch == num_epochs_emb - 1:\n",
        "        print(f\"   Epoch {epoch:3d}/{num_epochs_emb}: Train Loss = {loss.item():.4f}\")\n",
        "\n",
        "print(f\"\\n✅ PyTorch embedding training completed!\")\n",
        "\n",
        "\n",
        "\n"
      ]
    },
    {
      "cell_type": "markdown",
      "metadata": {},
      "source": [
        "### Evaluate embedding setup"
      ]
    },
    {
      "cell_type": "code",
      "execution_count": null,
      "metadata": {},
      "outputs": [
        {
          "name": "stdout",
          "output_type": "stream",
          "text": [
            "\n",
            "🎯 Evaluating PyTorch embedding model...\n",
            "\n",
            "📉 PyTorch Embedding Model Results:\n",
            "   Test Loss: 2.4674\n",
            "   Validation Loss: 2.4617\n"
          ]
        }
      ],
      "source": [
        "# Evaluate embedding model\n",
        "print(f\"\\n🎯 Evaluating PyTorch embedding model...\")\n",
        "model_emb.eval()\n",
        "with torch.no_grad():\n",
        "    # Training evaluation\n",
        "    logits_te = model_emb(Xte)\n",
        "    test_loss_2_emb = F.cross_entropy(logits_te, Yte).item()\n",
        "    \n",
        "    # Validation evaluation\n",
        "    logits_val = model_emb(Xval)\n",
        "    val_loss_2_emb = F.cross_entropy(logits_val, Yval).item()\n",
        "\n",
        "print(f\"\\n📉 PyTorch Embedding Model Results:\")\n",
        "print(f\"   Test Loss: {test_loss_2_emb:.4f}\")\n",
        "print(f\"   Validation Loss: {val_loss_2_emb:.4f}\")"
      ]
    },
    {
      "cell_type": "markdown",
      "metadata": {
        "vscode": {
          "languageId": "raw"
        }
      },
      "source": [
        "# Model 3: MLP with Extended Context (Moving beyond single characters)\n",
        "\n",
        "- Context window : Uses previous characters to predict the next (vs 1 character in bigrams)\n",
        "- A count-based approach would need 27³ = 19,683 parameters (one for each trigram)\n"
      ]
    },
    {
      "cell_type": "markdown",
      "metadata": {},
      "source": [
        "### Create MLP dataset with extended context (3)\n",
        "\n",
        "- `'...'` → `'r'`\n",
        "- `'..r'` → `'a'`\n",
        "- `'.ra'` → `'j'`\n",
        "- `'raj'` → `'k'`\n",
        "- `'ajk'` → `'u'`"
      ]
    },
    {
      "cell_type": "code",
      "execution_count": null,
      "metadata": {},
      "outputs": [
        {
          "name": "stdout",
          "output_type": "stream",
          "text": [
            "📐 Context window: 3 characters\n",
            "📊 MLP dataset:\n",
            "   Training: torch.Size([261746, 3]) -> torch.Size([261746])\n",
            "   Validation: torch.Size([32704, 3]) -> torch.Size([32704])\n",
            "   Test: torch.Size([32628, 3]) -> torch.Size([32628])\n",
            "\n",
            "🔍 First 5 training examples:\n",
            "   '...' -> 'r'\n",
            "   '..r' -> 'a'\n",
            "   '.ra' -> 'j'\n",
            "   'raj' -> 'k'\n",
            "   'ajk' -> 'u'\n"
          ]
        }
      ],
      "source": [
        "\n",
        "# Set context length (number of characters to look back)\n",
        "block_size = 3  # Use 3 previous characters to predict next\n",
        "print(f\"📐 Context window: {block_size} characters\")\n",
        "\n",
        "# Create MLP dataset with extended context\n",
        "def create_mlp_dataset(words_list, stoi, block_size):\n",
        "    X, Y = [], []\n",
        "    for w in words_list:\n",
        "        context = [0] * block_size  # Initialize with start tokens\n",
        "        for ch in w + '.':  # Add each character + end token\n",
        "            ix = stoi[ch]\n",
        "            X.append(context)\n",
        "            Y.append(ix)\n",
        "            context = context[1:] + [ix]  # Slide the window\n",
        "    \n",
        "    X = torch.tensor(X)\n",
        "    Y = torch.tensor(Y)\n",
        "    return X, Y\n",
        "\n",
        "# Create datasets\n",
        "X3_tr, Y3_tr = create_mlp_dataset(train_words, stoi, block_size)\n",
        "X3_val, Y3_val = create_mlp_dataset(val_words, stoi, block_size)\n",
        "X3_test, Y3_test = create_mlp_dataset(test_words, stoi, block_size)\n",
        "\n",
        "print(f\"📊 MLP dataset:\")\n",
        "print(f\"   Training: {X3_tr.shape} -> {Y3_tr.shape}\")\n",
        "print(f\"   Validation: {X3_val.shape} -> {Y3_val.shape}\")\n",
        "print(f\"   Test: {X3_test.shape} -> {Y3_test.shape}\")\n",
        "\n",
        "# Show some examples\n",
        "print(f\"\\n🔍 First 5 training examples:\")\n",
        "for i in range(5):\n",
        "    context_chars = ''.join([itos[ix] for ix in X3_tr[i].tolist()])\n",
        "    target_char = itos[Y3_tr[i].item()]\n",
        "    print(f\"   '{context_chars}' -> '{target_char}'\")"
      ]
    },
    {
      "cell_type": "markdown",
      "metadata": {},
      "source": [
        "####  Create model (Embedding → Linear → Tanh → Linear)"
      ]
    },
    {
      "cell_type": "code",
      "execution_count": null,
      "metadata": {},
      "outputs": [
        {
          "name": "stdout",
          "output_type": "stream",
          "text": [
            "\n",
            " MLP Architecture:\n",
            "   Embedding: 27 chars -> 10D vectors\n",
            "   Input: 3 chars -> 30D concatenated\n",
            "   Hidden: 30 -> 200 (tanh)\n",
            "   Output: 200 -> 27 (logits)\n",
            "   Total parameters: 11897\n"
          ]
        }
      ],
      "source": [
        "class MLPModel(torch.nn.Module):\n",
        "    def __init__(self, vocab_size, block_size, emb_dim=10, hidden_size=200):\n",
        "        super().__init__()\n",
        "        self.block_size = block_size\n",
        "        self.emb_dim = emb_dim\n",
        "        \n",
        "        \n",
        "        self.embedding = torch.nn.Embedding(vocab_size, emb_dim)\n",
        "        self.linear1 = torch.nn.Linear(block_size * emb_dim, hidden_size)\n",
        "        self.linear2 = torch.nn.Linear(hidden_size, vocab_size)\n",
        "        self.activation = torch.nn.Tanh()\n",
        "                \n",
        "    def forward(self, x):\n",
        "        #(Embedding → Linear → Tanh → Linear)\n",
        "        # x shape: (batch_size, block_size)\n",
        "        emb = self.embedding(x)  # (batch_size, block_size, emb_dim)\n",
        "        emb_flat = emb.view(emb.shape[0], -1)  # (batch_size, block_size * emb_dim)\n",
        "        hidden = self.activation(self.linear1(emb_flat))  # (batch_size, hidden_size)\n",
        "        logits = self.linear2(hidden)  # (batch_size, vocab_size)\n",
        "        return logits\n",
        "\n",
        "# Initialize model\n",
        "torch.manual_seed(2147483647)  # Same seed as manual approach\n",
        "model_mlp = MLPModel(vocab_size, block_size, emb_dim=10, hidden_size=200)\n",
        "\n",
        "# Count parameters\n",
        "total_params = sum(p.numel() for p in model_mlp.parameters())\n",
        "print(f\"\\n MLP Architecture:\")\n",
        "print(f\"   Embedding: {vocab_size} chars -> 10D vectors\")\n",
        "print(f\"   Input: {block_size} chars -> {block_size * 10}D concatenated\")\n",
        "print(f\"   Hidden: {block_size * 10} -> 200 (tanh)\")\n",
        "print(f\"   Output: 200 -> {vocab_size} (logits)\")\n",
        "print(f\"   Total parameters: {total_params}\")"
      ]
    },
    {
      "cell_type": "markdown",
      "metadata": {},
      "source": [
        "#### Training setup"
      ]
    },
    {
      "cell_type": "code",
      "execution_count": null,
      "metadata": {},
      "outputs": [
        {
          "name": "stdout",
          "output_type": "stream",
          "text": [
            "   Iter       0/200,000: Train Loss = 3.3236, LR = 0.001000\n",
            "   Iter  20,000/200,000: Train Loss = 2.2877, LR = 0.001000\n",
            "   Iter  40,000/200,000: Train Loss = 1.9043, LR = 0.001000\n",
            "   Iter  60,000/200,000: Train Loss = 1.9373, LR = 0.001000\n",
            "   Iter  80,000/200,000: Train Loss = 2.6199, LR = 0.001000\n",
            "   Iter 100,000/200,000: Train Loss = 1.9322, LR = 0.001000\n",
            "   Iter 120,000/200,000: Train Loss = 2.3731, LR = 0.001000\n",
            "   Iter 140,000/200,000: Train Loss = 1.9839, LR = 0.001000\n",
            "   Iter 160,000/200,000: Train Loss = 2.2153, LR = 0.001000\n",
            "   Iter 180,000/200,000: Train Loss = 1.9590, LR = 0.001000\n",
            "   Iter 199,999/200,000: Train Loss = 1.6628, LR = 0.001000\n",
            "\n",
            "✅  training completed successfully!\n",
            "   📉 Final training loss: 1.6628\n"
          ]
        },
        {
          "data": {
            "image/png": "[encoded data removed]",
            "text/plain": [
              "<Figure size 1000x600 with 1 Axes>"
            ]
          },
          "metadata": {},
          "output_type": "display_data"
        }
      ],
      "source": [
        "\n",
        "\n",
        "# Training setup\n",
        "optimizer = torch.optim.Adam(model_mlp.parameters(), lr=0.001)\n",
        "loss_fn = torch.nn.CrossEntropyLoss()\n",
        "\n",
        "\n",
        "stepi = []\n",
        "lossi = []\n",
        "num_iterations = 200000  \n",
        "batch_size = 32 # minibatch size\n",
        "\n",
        "\n",
        "for i in range(num_iterations):\n",
        "    # Minibatch construct \n",
        "    ix = torch.randint(0, X3_tr.shape[0], (batch_size,))  # 1D tensor , 32 random training indices\n",
        "    \n",
        "    # Forward pass\n",
        "    logits = model_mlp(X3_tr[ix])\n",
        "    loss = loss_fn(logits, Y3_tr[ix])\n",
        "    \n",
        "    # Track stats for monitoring training progress\n",
        "    stepi.append(i)\n",
        "    lossi.append(loss.item())\n",
        "    \n",
        "    # Backward pass\n",
        "    optimizer.zero_grad()   # clear gradients\n",
        "    loss.backward()         # compute gradients\n",
        "    optimizer.step()        # update weights\n",
        "    \n",
        "    # Print progress every 20,000 iterations  \n",
        "    if i % 20000 == 0 or i == num_iterations - 1:\n",
        "        current_lr = optimizer.param_groups[0]['lr']  # Access Adam's learning rate\n",
        "        print(f\"   Iter {i:7,}/{num_iterations:,}: Train Loss = {loss.item():.4f}, LR = {current_lr:.6f}\")\n",
        "\n",
        "print(f\"\\n✅  training completed successfully!\")\n",
        "print(f\"   📉 Final training loss: {lossi[-1]:.4f}\")\n",
        "\n",
        "\n",
        "\n",
        "# Plot exactly like bigram model\n",
        "plt.figure(figsize=(10, 6))\n",
        "plt.plot(lossi, label='Training Loss', alpha=0.8, linewidth=2, color='green')\n",
        "plt.title('Model 3: MLP Training Progress')\n",
        "plt.xlabel('Iteration')\n",
        "plt.ylabel('Loss')\n",
        "plt.legend()\n",
        "plt.grid(True, alpha=0.3)\n",
        "plt.show()\n",
        "\n",
        "\n",
        "\n"
      ]
    },
    {
      "cell_type": "markdown",
      "metadata": {},
      "source": [
        "### Final evaluation - Calculate validation loss on fully trained model"
      ]
    },
    {
      "cell_type": "code",
      "execution_count": null,
      "metadata": {},
      "outputs": [
        {
          "name": "stdout",
          "output_type": "stream",
          "text": [
            "\n",
            "🎯 Evaluating trained PyTorch model on validation data...\n",
            "   Test Loss: 2.0394\n",
            "   Validation Loss: 2.1121\n"
          ]
        }
      ],
      "source": [
        "\n",
        "# Final evaluation - Calculate validation loss on fully trained model\n",
        "print(f\"\\n🎯 Evaluating trained PyTorch model on validation data...\")\n",
        "\n",
        "model_mlp.eval()  # Set to evaluation mode\n",
        "with torch.no_grad():\n",
        "    # Training loss (sample to avoid memory issues)\n",
        "    test_ix = torch.randint(0, X3_tr.shape[0], (min(5000, X3_tr.shape[0]),))\n",
        "    logits_tr = model_mlp(X3_tr[test_ix])\n",
        "    test_loss_3_mlp = loss_fn(logits_tr, Y3_tr[test_ix]).item()\n",
        "    \n",
        "    # Validation loss (calculated AFTER training completion)\n",
        "    val_ix = torch.randint(0, X3_val.shape[0], (min(2000, X3_val.shape[0]),))\n",
        "    logits_val = model_mlp(X3_val[val_ix])\n",
        "    val_loss_3_mlp = loss_fn(logits_val, Y3_val[val_ix]).item()\n",
        "\n",
        "\n",
        "print(f\"   Test Loss: {test_loss_3_mlp:.4f}\")\n",
        "print(f\"   Validation Loss: {val_loss_3_mlp:.4f}\")\n",
        "\n"
      ]
    },
    {
      "cell_type": "markdown",
      "metadata": {},
      "source": [
        "### Generate names"
      ]
    },
    {
      "cell_type": "code",
      "execution_count": null,
      "metadata": {},
      "outputs": [
        {
          "name": "stdout",
          "output_type": "stream",
          "text": [
            "\n",
            " MLP Generated Names:\n",
            "    1. anuelly\n",
            "    2. tis\n",
            "    3. marian\n",
            "    4. dantu\n",
            "    5. samilla\n",
            "    6. mello\n",
            "    7. mahel\n",
            "    8. man\n",
            "    9. epince\n",
            "   10. deelanis\n",
            "   11. kender\n",
            "   12. keyra\n",
            "   13. kalla\n",
            "   14. mohd\n",
            "   15. yamar\n"
          ]
        }
      ],
      "source": [
        "# Generate names \n",
        "def generate_pytorch_mlp(model, itos, stoi, block_size, num_samples=10, seed=42):\n",
        "    model.eval()\n",
        "    torch.manual_seed(seed)  # Same seed as manual\n",
        "    names = []\n",
        "    \n",
        "    for i in range(num_samples):\n",
        "        out = []\n",
        "        context = [0] * block_size  # Initialize with start tokens\n",
        "        \n",
        "        while True:\n",
        "            with torch.no_grad():\n",
        "                # PyTorch forward pass\n",
        "                x = torch.tensor([context])\n",
        "                logits = model(x)  # (1, vocab_size)\n",
        "                probs = F.softmax(logits, dim=1)\n",
        "                \n",
        "                ix = torch.multinomial(probs, num_samples=1).item()\n",
        "                context = context[1:] + [ix]  # Update context window\n",
        "                \n",
        "                if ix == 0:  # End token\n",
        "                    break\n",
        "                out.append(itos[ix])\n",
        "        \n",
        "        names.append(''.join(out))\n",
        "    \n",
        "    return names\n",
        "\n",
        "names_3_pytorch = generate_pytorch_mlp(model_mlp, itos, stoi, block_size, num_samples=15, seed=42)\n",
        "print(f\"\\n MLP Generated Names:\")\n",
        "for i, name in enumerate(names_3_pytorch, 1):\n",
        "    print(f\"   {i:2d}. {name}\")\n",
        "\n"
      ]
    },
    {
      "cell_type": "markdown",
      "metadata": {},
      "source": [
        "### MLP Summary"
      ]
    },
    {
      "cell_type": "code",
      "execution_count": null,
      "metadata": {},
      "outputs": [
        {
          "name": "stdout",
          "output_type": "stream",
          "text": [
            "\n",
            "📊 MLP Summary: (Embedding → Linear → Tanh → Linear)\n",
            "   • Parameters: 11897 learnable weights\n",
            "   • Validation Loss: 2.1121\n"
          ]
        }
      ],
      "source": [
        "print(f\"\\n📊 MLP Summary: (Embedding → Linear → Tanh → Linear)\")\n",
        "print(f\"   • Parameters: {total_params} learnable weights\")\n",
        "print(f\"   • Validation Loss: {val_loss_3_mlp:.4f}\")\n"
      ]
    },
    {
      "cell_type": "markdown",
      "metadata": {},
      "source": [
        "### Final results comparison (count , bigram , MLP)\n"
      ]
    },
    {
      "cell_type": "code",
      "execution_count": null,
      "metadata": {},
      "outputs": [
        {
          "data": {
            "image/png": "[encoded data removed]",
            "text/plain": [
              "<Figure size 640x480 with 1 Axes>"
            ]
          },
          "metadata": {},
          "output_type": "display_data"
        }
      ],
      "source": [
        "# Final results comparison\n",
        "plt.subplot(1, 2, 2)\n",
        "models = ['Count-based', 'Neural Bigram', 'MLP']\n",
        "losses = [val_loss_1, val_loss_2, val_loss_3_mlp] \n",
        "colors = ['lightblue', 'lightcoral', 'lightgreen']\n",
        "bars = plt.bar(models, losses, color=colors, alpha=0.7)\n",
        "plt.title('Validation Loss Comparison')\n",
        "plt.ylabel('Validation Loss')\n",
        "plt.xticks(rotation=45)\n",
        "for bar, loss in zip(bars, losses):\n",
        "    plt.text(bar.get_x() + bar.get_width()/2, bar.get_height() + 0.01, \n",
        "             f'{loss:.3f}', ha='center', va='bottom', fontweight='bold')\n",
        "plt.grid(True, alpha=0.3)\n",
        "\n",
        "plt.tight_layout()\n",
        "plt.show()"
      ]
    },
    {
      "cell_type": "markdown",
      "metadata": {},
      "source": [
        "# Model 4: CNN-Inspired Hierarchical Model\n",
        "- The CNN-inspired model uses a hierarchical approach with longer context. \n",
        "- It processes characters in a tree-like structure with multiple levels of abstraction."
      ]
    },
    {
      "cell_type": "markdown",
      "metadata": {},
      "source": [
        "### Create CNN dataset with longer context\n",
        "`'........' → 'r'`<br>\n",
        "`'.......r' → 'a'`<br>\n",
        "`'......ra' → 'j'`<br>\n",
        "`'.....raj' → 'k'`<br>\n",
        "`'....rajk' → 'u'`"
      ]
    },
    {
      "cell_type": "code",
      "execution_count": null,
      "metadata": {},
      "outputs": [
        {
          "name": "stdout",
          "output_type": "stream",
          "text": [
            "📐 Context window: 8 characters (extended)\n",
            "📊 CNN dataset:\n",
            "   Training: torch.Size([261746, 8]) -> torch.Size([261746])\n",
            "   Validation: torch.Size([32704, 8]) -> torch.Size([32704])\n",
            "   Test: torch.Size([32628, 8]) -> torch.Size([32628])\n",
            "\n",
            "🔍 First 5 training examples:\n",
            "   '........' -> 'r'\n",
            "   '.......r' -> 'a'\n",
            "   '......ra' -> 'j'\n",
            "   '.....raj' -> 'k'\n",
            "   '....rajk' -> 'u'\n"
          ]
        }
      ],
      "source": [
        "# Extended context length for hierarchical processing\n",
        "\n",
        "block_size_cnn = 8  # Longer context than MLP\n",
        "print(f\"📐 Context window: {block_size_cnn} characters (extended)\")\n",
        "\n",
        "# Create CNN dataset with longer context\n",
        "def create_cnn_dataset(words_list, stoi, block_size):\n",
        "    X, Y = [], []\n",
        "    for w in words_list:\n",
        "        context = [0] * block_size  # Initialize with start tokens\n",
        "        for ch in w + '.':  # Add each character + end token\n",
        "            ix = stoi[ch]\n",
        "            X.append(context)\n",
        "            Y.append(ix)\n",
        "            context = context[1:] + [ix]  # Slide the window\n",
        "    \n",
        "    X = torch.tensor(X)\n",
        "    Y = torch.tensor(Y)\n",
        "    return X, Y\n",
        "\n",
        "# Create datasets\n",
        "X4_tr, Y4_tr = create_cnn_dataset(train_words, stoi, block_size_cnn)\n",
        "X4_val, Y4_val = create_cnn_dataset(val_words, stoi, block_size_cnn)\n",
        "X4_test, Y4_test = create_cnn_dataset(test_words, stoi, block_size_cnn)\n",
        "\n",
        "print(f\"📊 CNN dataset:\")\n",
        "print(f\"   Training: {X4_tr.shape} -> {Y4_tr.shape}\")\n",
        "print(f\"   Validation: {X4_val.shape} -> {Y4_val.shape}\")\n",
        "print(f\"   Test: {X4_test.shape} -> {Y4_test.shape}\")\n",
        "\n",
        "# Show some examples\n",
        "print(f\"\\n🔍 First 5 training examples:\")\n",
        "for i in range(5):\n",
        "    context_chars = ''.join([itos[ix] for ix in X4_tr[i].tolist()])\n",
        "    target_char = itos[Y4_tr[i].item()]\n",
        "    print(f\"   '{context_chars}' -> '{target_char}'\")"
      ]
    },
    {
      "cell_type": "markdown",
      "metadata": {},
      "source": [
        "### Hierarchical CNN Processing Logic\n",
        "\n",
        "#### Level-by-Level Processing\n",
        "\n",
        "### LEVEL 1: Character Pairs (8 chars → 4 pairs)\n",
        "- **Input:** Take adjacent character pairs: `[char1,char2]`, `[char3,char4]`, `[char5,char6]`, `[char7,char8]`\n",
        "- **Concatenation:** Embeddings: `24D + 24D = 48D` per pair\n",
        "- **Processing:** Linear transformation: `48D → 128D` (learns bigram patterns like \"th\", \"er\", \"an\")\n",
        "- **Result:** 4 groups of 128D vectors representing character pairs\n",
        "\n",
        "### LEVEL 2: Pair Grouping (4 pairs → 2 groups)\n",
        "- **Input:** Combine adjacent pairs: `[pair1,pair2]`, `[pair3,pair4]`\n",
        "- **Concatenation:** Representations: `128D + 128D = 256D` per group\n",
        "- **Processing:** Linear transformation: `256D → 128D` (learns 4-character patterns)\n",
        "- **Result:** 2 groups of 128D vectors representing 4-char sequences\n",
        "\n",
        "### LEVEL 3: Final Merge (2 groups → 1 representation)\n",
        "- **Input:** Merge remaining groups: `[group1, group2]`\n",
        "- **Concatenation:** `128D + 128D = 256D`\n",
        "- **Processing:** Linear transformation: `256D → 128D` (learns full 8-character context)\n",
        "- **Result:** Single 128D vector capturing entire sequence pattern\n",
        "\n",
        "### OUTPUT: Prediction (1 representation → next character)\n",
        "- **Processing:** Final Linear: `128D → 27D` (vocabulary size)\n",
        "- **Result:** Probability distribution over all possible next characters\n",
        "\n"
      ]
    },
    {
      "cell_type": "code",
      "execution_count": null,
      "metadata": {},
      "outputs": [
        {
          "name": "stdout",
          "output_type": "stream",
          "text": [
            "\n",
            "⚙️ CNN Architecture:\n",
            "   Embedding: 27 chars -> 24D vectors\n",
            "   Output: Hidden(128) -> 27 logits\n",
            "   Total parameters: 76,579\n"
          ]
        }
      ],
      "source": [
        "\n",
        "# CNN-inspired model\n",
        "\n",
        "\n",
        "class HierarchicalCNN(torch.nn.Module):\n",
        "    def __init__(self, vocab_size, emb_dim=24, hidden_size=128, block_size=8):\n",
        "        super().__init__()\n",
        "        self.block_size = block_size\n",
        "        self.emb_dim = emb_dim\n",
        "\n",
        "        # Embedding layer\n",
        "        self.embedding = torch.nn.Embedding(vocab_size, emb_dim)\n",
        "        \n",
        "        # Hierarchical processing layers\n",
        "        # Level 1: Process pairs of characters (8 -> 4)\n",
        "        self.level1 = torch.nn.Sequential(\n",
        "            torch.nn.Linear(emb_dim * 2, hidden_size, bias=False),\n",
        "            torch.nn.BatchNorm1d(hidden_size),\n",
        "            torch.nn.Tanh()\n",
        "        )\n",
        "        \n",
        "        # Level 2: Process pairs of level1 outputs (4 -> 2)\n",
        "        self.level2 = torch.nn.Sequential(\n",
        "            torch.nn.Linear(hidden_size * 2, hidden_size, bias=False),\n",
        "            torch.nn.BatchNorm1d(hidden_size),\n",
        "            torch.nn.Tanh()\n",
        "        )\n",
        "        \n",
        "        # Level 3: Process pairs of level2 outputs (2 -> 1)\n",
        "        self.level3 = torch.nn.Sequential(\n",
        "            torch.nn.Linear(hidden_size * 2, hidden_size, bias=False),\n",
        "            torch.nn.BatchNorm1d(hidden_size),\n",
        "            torch.nn.Tanh()\n",
        "        )\n",
        "        \n",
        "        # Final output layer\n",
        "        self.output = torch.nn.Linear(hidden_size, vocab_size)\n",
        "        \n",
        "        # Initialize weights\n",
        "        self._init_weights()\n",
        "    \n",
        "    def _init_weights(self):\n",
        "        # Initialize output layer\n",
        "        with torch.no_grad():\n",
        "            self.output.weight *= 0.1\n",
        "    \n",
        "    def forward(self, x):\n",
        "        # x shape: (batch_size, block_size)\n",
        "        batch_size = x.shape[0]\n",
        "        \n",
        "        # Embedding: (batch_size, block_size, emb_dim)\n",
        "        emb = self.embedding(x)\n",
        "        \n",
        "\n",
        "        # Level 1: Group pairs of characters (8 chars -> 4 groups)\n",
        "        emb_pairs = emb.view(batch_size, 4, self.emb_dim * 2)  # (batch, 4, emb_dim*2)\n",
        "        level1_out = self.level1(emb_pairs.view(-1, self.emb_dim * 2))  # (batch*4, hidden)\n",
        "        level1_out = level1_out.view(batch_size, 4, -1)  # (batch, 4, hidden)\n",
        "        \n",
        "        # Level 2: Group pairs of level1 outputs (4 -> 2)\n",
        "        level1_pairs = level1_out.view(batch_size, 2, -1)  # (batch, 2, hidden*2)\n",
        "        level2_out = self.level2(level1_pairs.view(-1, level1_pairs.shape[-1]))  # (batch*2, hidden)\n",
        "        level2_out = level2_out.view(batch_size, 2, -1)  # (batch, 2, hidden)\n",
        "        \n",
        "        # Level 3: Final pair processing (2 -> 1)\n",
        "        level2_pairs = level2_out.view(batch_size, -1)  # (batch, hidden*2)\n",
        "        level3_out = self.level3(level2_pairs)  # (batch, hidden)\n",
        "        \n",
        "        # Output\n",
        "        logits = self.output(level3_out)  # (batch, vocab_size)\n",
        "        return logits\n",
        "\n",
        "\n",
        "# Initialize model\n",
        "torch.manual_seed(42)\n",
        "model_cnn = HierarchicalCNN(vocab_size, emb_dim=24, hidden_size=128, block_size=block_size_cnn)\n",
        "\n",
        "# Count parameters\n",
        "total_params = sum(p.numel() for p in model_cnn.parameters())\n",
        "\n",
        "\n",
        "print(f\"\\n⚙️ CNN Architecture:\")\n",
        "print(f\"   Embedding: {vocab_size} chars -> 24D vectors\")\n",
        "print(f\"   Output: Hidden(128) -> {vocab_size} logits\")\n",
        "print(f\"   Total parameters: {total_params:,}\")\n"
      ]
    },
    {
      "cell_type": "markdown",
      "metadata": {},
      "source": [
        "### Training setup"
      ]
    },
    {
      "cell_type": "code",
      "execution_count": null,
      "metadata": {},
      "outputs": [
        {
          "name": "stdout",
          "output_type": "stream",
          "text": [
            "\n",
            "🚀 Training CNN model ...\n",
            "   🎯 Training: 200,000 iterations\n",
            "   📊 Progress updates every 20,000 iterations\n",
            "   Iter       0/200,000: Train Loss = 3.3056, LR = 0.001\n",
            "   Iter  20,000/200,000: Train Loss = 1.7642, LR = 0.001\n",
            "   Iter  40,000/200,000: Train Loss = 2.0560, LR = 0.001\n",
            "   Iter  60,000/200,000: Train Loss = 1.9148, LR = 0.001\n",
            "   Iter  80,000/200,000: Train Loss = 1.6817, LR = 0.001\n",
            "   Iter 100,000/200,000: Train Loss = 1.8115, LR = 0.001\n",
            "   Iter 120,000/200,000: Train Loss = 2.0186, LR = 0.001\n",
            "   Iter 140,000/200,000: Train Loss = 1.6550, LR = 0.001\n",
            "   Iter 160,000/200,000: Train Loss = 1.8149, LR = 0.001\n",
            "   Iter 180,000/200,000: Train Loss = 1.9642, LR = 0.001\n",
            "   Iter 199,999/200,000: Train Loss = 2.0283, LR = 0.001\n",
            "\n",
            "✅ CNN training completed successfully!\n",
            "   📉 Final training loss: 2.0283\n"
          ]
        }
      ],
      "source": [
        "# Training setup\n",
        "print(f\"\\n🚀 Training CNN model ...\")\n",
        "model_cnn.train()\n",
        "\n",
        "optimizer = torch.optim.Adam(model_cnn.parameters(), lr=0.001)\n",
        "\n",
        "num_iterations = 200000\n",
        "batch_size = 32\n",
        "cnn_losses = []\n",
        "\n",
        "print(f\"   🎯 Training: {num_iterations:,} iterations\")\n",
        "print(f\"   📊 Progress updates every 20,000 iterations\")\n",
        "\n",
        "\n",
        "\n",
        "for i in range(num_iterations):\n",
        "    # Minibatch\n",
        "    ix = torch.randint(0, X4_tr.shape[0], (batch_size,))\n",
        "    Xb, Yb = X4_tr[ix], Y4_tr[ix]\n",
        "    \n",
        "    # Forward pass\n",
        "    logits = model_cnn(Xb)\n",
        "    loss = F.cross_entropy(logits, Yb)\n",
        "    cnn_losses.append(loss.item())\n",
        "    \n",
        "    # Backward pass\n",
        "    optimizer.zero_grad()   #clear the gradients\n",
        "    loss.backward()         #compute the gradients\n",
        "    optimizer.step()        #update the weights\n",
        "    \n",
        "    \n",
        "    # Progress\n",
        "    if i % 20000 == 0 or i == num_iterations - 1:\n",
        "        current_lr = optimizer.param_groups[0]['lr']\n",
        "        print(f\"   Iter {i:7,}/{num_iterations:,}: Train Loss = {loss.item():.4f}, LR = {current_lr:.3f}\")\n",
        "\n",
        "print(f\"\\n✅ CNN training completed successfully!\")\n",
        "print(f\"   📉 Final training loss: {cnn_losses[-1]:.4f}\")\n",
        "\n"
      ]
    },
    {
      "cell_type": "markdown",
      "metadata": {},
      "source": [
        "### Final evaluation"
      ]
    },
    {
      "cell_type": "code",
      "execution_count": null,
      "metadata": {},
      "outputs": [
        {
          "name": "stdout",
          "output_type": "stream",
          "text": [
            "\n",
            "🎯 Evaluating trained CNN model on validation data...\n",
            "\n",
            "📉 Model 4 Final Results (After Training):\n",
            "   Training Loss: 1.7624\n",
            "   Validation Loss: 1.8674 ✅ (calculated post-training)\n"
          ]
        },
        {
          "data": {
            "image/png": "[encoded data removed]",
            "text/plain": [
              "<Figure size 1200x500 with 2 Axes>"
            ]
          },
          "metadata": {},
          "output_type": "display_data"
        }
      ],
      "source": [
        "\n",
        "\n",
        "# Final evaluation\n",
        "model_cnn.eval()\n",
        "print(f\"\\n🎯 Evaluating trained CNN model on validation data...\")\n",
        "with torch.no_grad():\n",
        "    # Training loss\n",
        "    train_ix = torch.randint(0, X4_tr.shape[0], (min(5000, X4_tr.shape[0]),))\n",
        "    logits_tr = model_cnn(X4_tr[train_ix])\n",
        "    train_loss_4 = F.cross_entropy(logits_tr, Y4_tr[train_ix]).item()\n",
        "    \n",
        "    # Validation loss\n",
        "    val_ix = torch.randint(0, X4_val.shape[0], (min(2000, X4_val.shape[0]),))\n",
        "    logits_val = model_cnn(X4_val[val_ix])\n",
        "    val_loss_4 = F.cross_entropy(logits_val, Y4_val[val_ix]).item()\n",
        "\n",
        "print(f\"\\n📉 Model 4 Final Results (After Training):\")\n",
        "print(f\"   Training Loss: {train_loss_4:.4f}\")\n",
        "print(f\"   Validation Loss: {val_loss_4:.4f} ✅ (calculated post-training)\")\n",
        "\n",
        "\n",
        "\n",
        "# Plot training progress\n",
        "plt.figure(figsize=(12, 5))\n",
        "\n",
        "# Training curve\n",
        "plt.subplot(1, 2, 1)\n",
        "subsample = max(1, len(cnn_losses) // 2000)\n",
        "plt.plot(cnn_losses[::subsample], label='CNN Training Loss', alpha=0.8, linewidth=2, color='purple')\n",
        "plt.title('Model 4: CNN Training Progress')\n",
        "plt.xlabel('Iteration')\n",
        "plt.ylabel('Loss')\n",
        "plt.legend()\n",
        "plt.grid(True, alpha=0.3)\n",
        "\n",
        "# Updated comparison with all 4 models\n",
        "plt.subplot(1, 2, 2)\n",
        "models = ['Count-based', 'Neural Bigram', 'MLP (3-char)', 'CNN (8-char)']\n",
        "losses = [val_loss_1, val_loss_2, val_loss_3_mlp, val_loss_4]\n",
        "colors = ['lightblue', 'lightcoral', 'lightgreen', 'plum']\n",
        "bars = plt.bar(models, losses, color=colors, alpha=0.7)\n",
        "plt.title('Final Validation Loss Comparison (4 Models)')\n",
        "plt.ylabel('Validation Loss')\n",
        "plt.xticks(rotation=45)\n",
        "for bar, loss in zip(bars, losses):\n",
        "    plt.text(bar.get_x() + bar.get_width()/2, bar.get_height() + 0.01, \n",
        "             f'{loss:.3f}', ha='center', va='bottom', fontweight='bold')\n",
        "plt.grid(True, alpha=0.3)\n",
        "\n",
        "plt.tight_layout()\n",
        "plt.show()\n",
        "\n",
        "\n",
        "\n"
      ]
    },
    {
      "cell_type": "markdown",
      "metadata": {},
      "source": [
        "### Generate names"
      ]
    },
    {
      "cell_type": "code",
      "execution_count": null,
      "metadata": {},
      "outputs": [
        {
          "name": "stdout",
          "output_type": "stream",
          "text": [
            "\n",
            "✨ Model 4 Generated Names:\n",
            "    1. anubeen\n",
            "    2. til\n",
            "    3. fabian\n",
            "    4. davisha\n",
            "    5. millayah\n",
            "    6. akshah\n",
            "    7. sumin\n",
            "    8. emilynne\n",
            "    9. giangelana\n",
            "   10. majkeer\n",
            "   11. gianla\n",
            "   12. mohd\n",
            "   13. yanah\n",
            "   14. visiyah\n",
            "   15. salim\n",
            "\n",
            "📊 Model 4 Summary (CNN-Inspired PyTorch):\n",
            "   • Approach: Hierarchical CNN with PyTorch modules\n",
            "   • Context: 8 previous characters (extended)\n",
            "   • Parameters: 76,579 learnable weights\n",
            "   • Training: 200,000 iterations with PyTorch optimizer\n",
            "   • Architecture: Tree-like hierarchical processing (8->4->2->1)\n",
            "   • Validation: Calculated post-training (clean assessment)\n",
            "   • Final Loss: 1.8674\n"
          ]
        }
      ],
      "source": [
        "\n",
        "\n",
        "# Generate names\n",
        "def generate_cnn(model, itos, stoi, block_size, num_samples=10, seed=42):\n",
        "    model.eval()\n",
        "    torch.manual_seed(seed)\n",
        "    names = []\n",
        "    \n",
        "    for i in range(num_samples):\n",
        "        out = []\n",
        "        context = [0] * block_size  # Initialize with start tokens\n",
        "        \n",
        "        while True:\n",
        "            with torch.no_grad():\n",
        "                x = torch.tensor([context])\n",
        "                logits = model(x)\n",
        "                probs = F.softmax(logits, dim=1)\n",
        "                ix = torch.multinomial(probs, num_samples=1).item()\n",
        "                \n",
        "            context = context[1:] + [ix]  # Update context window\n",
        "            \n",
        "            if ix == 0:  # End token\n",
        "                break\n",
        "            out.append(itos[ix])\n",
        "        \n",
        "        names.append(''.join(out))\n",
        "    \n",
        "    return names\n",
        "\n",
        "names_4 = generate_cnn(model_cnn, itos, stoi, block_size_cnn, num_samples=15, seed=42)\n",
        "print(f\"\\n✨ Model 4 Generated Names:\")\n",
        "for i, name in enumerate(names_4, 1):\n",
        "    print(f\"   {i:2d}. {name}\")\n",
        "\n",
        "print(f\"\\n📊 Model 4 Summary (CNN-Inspired PyTorch):\")\n",
        "print(f\"   • Approach: Hierarchical CNN with PyTorch modules\")\n",
        "print(f\"   • Context: {block_size_cnn} previous characters (extended)\")\n",
        "print(f\"   • Parameters: {total_params:,} learnable weights\")\n",
        "print(f\"   • Training: {num_iterations:,} iterations with PyTorch optimizer\")\n",
        "print(f\"   • Architecture: Tree-like hierarchical processing (8->4->2->1)\")\n",
        "print(f\"   • Validation: Calculated post-training (clean assessment)\")\n",
        "print(f\"   • Final Loss: {val_loss_4:.4f}\")"
      ]
    },
    {
      "cell_type": "code",
      "execution_count": null,
      "metadata": {},
      "outputs": [
        {
          "name": "stdout",
          "output_type": "stream",
          "text": [
            "📊 RNN dataset:\n",
            "   Training sequences: 261,746\n",
            "   Validation sequences: 32,704\n",
            "   This is 7.0x more examples than words\n",
            "\n",
            "🔍 Sample sequences:\n",
            "  Input:  . → Target: r\n",
            "  Input:  .r → Target: a\n",
            "  Input:  .ra → Target: j\n",
            "  Input:  .raj → Target: k\n",
            "  Input:  .rajk → Target: u\n",
            "  Input:  .rajku → Target: m\n",
            "  Input:  .rajkum → Target: a\n",
            "  Input:  .rajkuma → Target: r\n",
            "  Input:  .rajkumar → Target: .\n",
            "  Input:  . → Target: v\n",
            "  Input:  .v → Target: i\n",
            "  Input:  .vi → Target: y\n",
            "  Input:  .viy → Target: a\n",
            "  Input:  .viya → Target: .\n",
            "  Input:  . → Target: d\n",
            "  Input:  .d → Target: a\n",
            "  Input:  .da → Target: e\n",
            "  Input:  .dae → Target: l\n",
            "  Input:  .dael → Target: .\n",
            "  Input:  . → Target: s\n",
            "  Input:  .s → Target: p\n",
            "  Input:  .sp → Target: i\n",
            "  Input:  .spi → Target: r\n",
            "  Input:  .spir → Target: i\n",
            "  Input:  .spiri → Target: t\n",
            "  Input:  .spirit → Target: .\n",
            "  Input:  . → Target: i\n",
            "  Input:  .i → Target: s\n",
            "  Input:  .is → Target: h\n",
            "  Input:  .ish → Target: i\n",
            "  Input:  .ishi → Target: k\n",
            "  Input:  .ishik → Target: a\n",
            "  Input:  .ishika → Target: .\n",
            "  Input:  . → Target: n\n",
            "  Input:  .n → Target: a\n",
            "  Input:  .na → Target: s\n",
            "  Input:  .nas → Target: z\n",
            "  Input:  .nasz → Target: i\n",
            "  Input:  .naszi → Target: r\n",
            "  Input:  .naszir → Target: .\n",
            "  Input:  . → Target: n\n",
            "  Input:  .n → Target: e\n",
            "  Input:  .ne → Target: e\n",
            "  Input:  .nee → Target: s\n",
            "  Input:  .nees → Target: h\n",
            "  Input:  .neesh → Target: u\n",
            "  Input:  .neeshu → Target: .\n",
            "  Input:  . → Target: r\n",
            "  Input:  .r → Target: e\n",
            "  Input:  .re → Target: y\n",
            "  Input:  .rey → Target: g\n",
            "  Input:  .reyg → Target: a\n",
            "  Input:  .reyga → Target: n\n",
            "  Input:  .reygan → Target: .\n",
            "  Input:  . → Target: s\n",
            "  Input:  .s → Target: o\n",
            "  Input:  .so → Target: h\n",
            "  Input:  .soh → Target: a\n",
            "  Input:  .soha → Target: n\n",
            "  Input:  .sohan → Target: .\n",
            "  Input:  . → Target: e\n",
            "  Input:  .e → Target: m\n",
            "  Input:  .em → Target: m\n",
            "  Input:  .emm → Target: a\n",
            "  Input:  .emma → Target: l\n",
            "  Input:  .emmal → Target: o\n",
            "  Input:  .emmalo → Target: u\n",
            "  Input:  .emmalou → Target: i\n",
            "  Input:  .emmaloui → Target: s\n",
            "  Input:  .emmalouis → Target: e\n",
            "  Input:  .emmalouise → Target: .\n",
            "  Input:  . → Target: p\n",
            "  Input:  .p → Target: a\n",
            "  Input:  .pa → Target: d\n",
            "  Input:  .pad → Target: a\n",
            "  Input:  .pada → Target: m\n",
            "  Input:  .padam → Target: .\n",
            "  Input:  . → Target: j\n",
            "  Input:  .j → Target: u\n",
            "  Input:  .ju → Target: s\n",
            "  Input:  .jus → Target: t\n",
            "  Input:  .just → Target: i\n",
            "  Input:  .justi → Target: n\n",
            "  Input:  .justin → Target: .\n",
            "  Input:  . → Target: l\n",
            "  Input:  .l → Target: e\n",
            "  Input:  .le → Target: n\n",
            "  Input:  .len → Target: i\n",
            "  Input:  .leni → Target: e\n",
            "  Input:  .lenie → Target: l\n",
            "  Input:  .leniel → Target: .\n",
            "  Input:  . → Target: n\n",
            "  Input:  .n → Target: a\n",
            "  Input:  .na → Target: r\n",
            "  Input:  .nar → Target: e\n",
            "  Input:  .nare → Target: n\n",
            "  Input:  .naren → Target: d\n",
            "  Input:  .narend → Target: e\n",
            "  Input:  .narende → Target: r\n",
            "  Input:  .narender → Target: .\n",
            "  Input:  . → Target: r\n",
            "  Input:  .r → Target: u\n",
            "  Input:  .ru → Target: t\n",
            "  Input:  .rut → Target: .\n",
            "  Input:  . → Target: b\n",
            "  Input:  .b → Target: r\n",
            "  Input:  .br → Target: a\n",
            "  Input:  .bra → Target: m\n",
            "  Input:  .bram → Target: .\n",
            "  Input:  . → Target: s\n",
            "  Input:  .s → Target: u\n",
            "  Input:  .su → Target: j\n",
            "  Input:  .suj → Target: a\n",
            "  Input:  .suja → Target: n\n",
            "  Input:  .sujan → Target: .\n",
            "  Input:  . → Target: l\n",
            "  Input:  .l → Target: y\n",
            "  Input:  .ly → Target: n\n",
            "  Input:  .lyn → Target: l\n",
            "  Input:  .lynl → Target: e\n",
            "  Input:  .lynle → Target: e\n",
            "  Input:  .lynlee → Target: .\n",
            "  Input:  . → Target: j\n",
            "  Input:  .j → Target: h\n",
            "  Input:  .jh → Target: e\n",
            "  Input:  .jhe → Target: l\n",
            "  Input:  .jhel → Target: a\n",
            "  Input:  .jhela → Target: n\n",
            "  Input:  .jhelan → Target: i\n",
            "  Input:  .jhelani → Target: .\n",
            "  Input:  . → Target: a\n",
            "  Input:  .a → Target: u\n",
            "  Input:  .au → Target: s\n",
            "  Input:  .aus → Target: t\n",
            "  Input:  .aust → Target: e\n",
            "  Input:  .auste → Target: n\n",
            "  Input:  .austen → Target: .\n",
            "  Input:  . → Target: a\n",
            "  Input:  .a → Target: l\n",
            "  Input:  .al → Target: o\n",
            "  Input:  .alo → Target: y\n",
            "  Input:  .aloy → Target: s\n",
            "  Input:  .aloys → Target: i\n",
            "  Input:  .aloysi → Target: u\n",
            "  Input:  .aloysiu → Target: s\n",
            "  Input:  .aloysius → Target: .\n",
            "  Input:  . → Target: m\n",
            "  Input:  .m → Target: i\n",
            "  Input:  .mi → Target: t\n",
            "  Input:  .mit → Target: h\n",
            "  Input:  .mith → Target: l\n",
            "  Input:  .mithl → Target: e\n",
            "  Input:  .mithle → Target: s\n",
            "  Input:  .mithles → Target: h\n",
            "  Input:  .mithlesh → Target: .\n",
            "  Input:  . → Target: h\n",
            "  Input:  .h → Target: e\n",
            "  Input:  .he → Target: r\n",
            "  Input:  .her → Target: s\n",
            "  Input:  .hers → Target: o\n",
            "  Input:  .herso → Target: n\n",
            "  Input:  .herson → Target: .\n",
            "  Input:  . → Target: l\n",
            "  Input:  .l → Target: u\n",
            "  Input:  .lu → Target: k\n",
            "  Input:  .luk → Target: m\n",
            "  Input:  .lukm → Target: a\n",
            "  Input:  .lukma → Target: n\n",
            "  Input:  .lukman → Target: .\n",
            "  Input:  . → Target: o\n",
            "  Input:  .o → Target: s\n",
            "  Input:  .os → Target: t\n",
            "  Input:  .ost → Target: i\n",
            "  Input:  .osti → Target: n\n",
            "  Input:  .ostin → Target: .\n",
            "  Input:  . → Target: n\n",
            "  Input:  .n → Target: i\n",
            "  Input:  .ni → Target: c\n",
            "  Input:  .nic → Target: c\n",
            "  Input:  .nicc → Target: o\n",
            "  Input:  .nicco → Target: .\n",
            "  Input:  . → Target: e\n",
            "  Input:  .e → Target: i\n",
            "  Input:  .ei → Target: m\n",
            "  Input:  .eim → Target: y\n",
            "  Input:  .eimy → Target: .\n",
            "  Input:  . → Target: g\n",
            "  Input:  .g → Target: u\n",
            "  Input:  .gu → Target: n\n",
            "  Input:  .gun → Target: n\n",
            "  Input:  .gunn → Target: e\n",
            "  Input:  .gunne → Target: r\n",
            "  Input:  .gunner → Target: .\n",
            "  Input:  . → Target: s\n",
            "  Input:  .s → Target: a\n",
            "  Input:  .sa → Target: n\n",
            "  Input:  .san → Target: j\n",
            "  Input:  .sanj → Target: a\n",
            "  Input:  .sanja → Target: y\n",
            "  Input:  .sanjay → Target: .\n",
            "  Input:  . → Target: r\n",
            "  Input:  .r → Target: a\n",
            "  Input:  .ra → Target: j\n",
            "  Input:  .raj → Target: k\n",
            "  Input:  .rajk → Target: u\n",
            "  Input:  .rajku → Target: m\n",
            "  Input:  .rajkum → Target: a\n",
            "  Input:  .rajkuma → Target: r\n",
            "  Input:  .rajkumar → Target: .\n",
            "  Input:  . → Target: j\n",
            "  Input:  .j → Target: a\n",
            "  Input:  .ja → Target: q\n",
            "  Input:  .jaq → Target: u\n",
            "  Input:  .jaqu → Target: a\n",
            "  Input:  .jaqua → Target: n\n",
            "  Input:  .jaquan → Target: .\n",
            "  Input:  . → Target: a\n",
            "  Input:  .a → Target: s\n",
            "  Input:  .as → Target: h\n",
            "  Input:  .ash → Target: o\n",
            "  Input:  .asho → Target: k\n",
            "  Input:  .ashok → Target: .\n",
            "  Input:  . → Target: d\n",
            "  Input:  .d → Target: r\n",
            "  Input:  .dr → Target: a\n",
            "  Input:  .dra → Target: y\n",
            "  Input:  .dray → Target: s\n",
            "  Input:  .drays → Target: o\n",
            "  Input:  .drayso → Target: n\n",
            "  Input:  .drayson → Target: .\n",
            "  Input:  . → Target: k\n",
            "  Input:  .k → Target: a\n",
            "  Input:  .ka → Target: r\n",
            "  Input:  .kar → Target: s\n",
            "  Input:  .kars → Target: t\n",
            "  Input:  .karst → Target: e\n",
            "  Input:  .karste → Target: n\n",
            "  Input:  .karsten → Target: .\n",
            "  Input:  . → Target: r\n",
            "  Input:  .r → Target: i\n",
            "  Input:  .ri → Target: y\n",
            "  Input:  .riy → Target: a\n",
            "  Input:  .riya → Target: z\n",
            "  Input:  .riyaz → Target: .\n",
            "  Input:  . → Target: g\n",
            "  Input:  .g → Target: a\n",
            "  Input:  .ga → Target: l\n",
            "  Input:  .gal → Target: i\n",
            "  Input:  .gali → Target: n\n",
            "  Input:  .galin → Target: a\n",
            "  Input:  .galina → Target: .\n",
            "  Input:  . → Target: g\n",
            "  Input:  .g → Target: o\n",
            "  Input:  .go → Target: p\n",
            "  Input:  .gop → Target: a\n",
            "  Input:  .gopa → Target: l\n",
            "  Input:  .gopal → Target: .\n",
            "  Input:  . → Target: z\n",
            "  Input:  .z → Target: i\n",
            "  Input:  .zi → Target: s\n",
            "  Input:  .zis → Target: s\n",
            "  Input:  .ziss → Target: e\n",
            "  Input:  .zisse → Target: l\n",
            "  Input:  .zissel → Target: .\n",
            "  Input:  . → Target: c\n",
            "  Input:  .c → Target: o\n",
            "  Input:  .co → Target: n\n",
            "  Input:  .con → Target: r\n",
            "  Input:  .conr → Target: a\n",
            "  Input:  .conra → Target: d\n",
            "  Input:  .conrad → Target: o\n",
            "  Input:  .conrado → Target: .\n",
            "  Input:  . → Target: h\n",
            "  Input:  .h → Target: e\n",
            "  Input:  .he → Target: r\n",
            "  Input:  .her → Target: m\n",
            "  Input:  .herm → Target: i\n",
            "  Input:  .hermi → Target: o\n",
            "  Input:  .hermio → Target: n\n",
            "  Input:  .hermion → Target: e\n",
            "  Input:  .hermione → Target: .\n",
            "  Input:  . → Target: t\n",
            "  Input:  .t → Target: e\n",
            "  Input:  .te → Target: g\n",
            "  Input:  .teg → Target: h\n",
            "  Input:  .tegh → Target: a\n",
            "  Input:  .tegha → Target: n\n",
            "  Input:  .teghan → Target: .\n",
            "  Input:  . → Target: k\n",
            "  Input:  .k → Target: h\n",
            "  Input:  .kh → Target: a\n",
            "  Input:  .kha → Target: r\n",
            "  Input:  .khar → Target: s\n",
            "  Input:  .khars → Target: y\n",
            "  Input:  .kharsy → Target: n\n",
            "  Input:  .kharsyn → Target: .\n",
            "  Input:  . → Target: n\n",
            "  Input:  .n → Target: o\n",
            "  Input:  .no → Target: e\n",
            "  Input:  .noe → Target: l\n",
            "\n",
            "📦 Batched data shapes:\n",
            "   X_train: torch.Size([261746, 20])\n",
            "   y_train: torch.Size([261746])\n",
            "   X_val: torch.Size([32704, 14])\n",
            "   y_val: torch.Size([32704])\n",
            "   X_train_lens: torch.Size([261746]) (min=1, max=20)\n"
          ]
        }
      ],
      "source": [
        "### Model 5: Simple RNN (Following the Example)\n",
        "\n",
        "# Dataset creation exactly as in the example\n",
        "def create_rnn_dataset(words_list, stoi):\n",
        "    sequences = []\n",
        "    targets = []\n",
        "    for word in words_list:\n",
        "        chars = ['.'] + list(word)\n",
        "        for i in range(len(chars) - 1):\n",
        "            input_seq = [stoi[ch] for ch in chars[:i+1]]\n",
        "            target_char = stoi[chars[i+1]]\n",
        "            sequences.append(input_seq)\n",
        "            targets.append(target_char)\n",
        "        # Predict end token\n",
        "        sequences.append([stoi[ch] for ch in chars])\n",
        "        targets.append(stoi['.'])\n",
        "    return sequences, targets\n",
        "\n",
        "# Create dataset\n",
        "train_sequences, train_targets = create_rnn_dataset(train_words, stoi)\n",
        "val_sequences, val_targets = create_rnn_dataset(val_words, stoi)\n",
        "\n",
        "print(f\"📊 RNN dataset:\")\n",
        "print(f\"   Training sequences: {len(train_sequences):,}\")\n",
        "print(f\"   Validation sequences: {len(val_sequences):,}\")\n",
        "print(f\"   This is {len(train_sequences)/len(train_words):.1f}x more examples than words\")\n",
        "\n",
        "print(f\"\\n🔍 Sample sequences:\")\n",
        "for i in range(10):\n",
        "    seq = [itos[idx] for idx in train_sequences[i]]\n",
        "    target = itos[train_targets[i]]\n",
        "    print(f\"  Input:  {''.join(seq)} → Target: {target}\")\n",
        "\n",
        "# Pad sequences to batch\n",
        "def pad_sequences(sequences, pad_token=0):\n",
        "    max_len = max(len(seq) for seq in sequences)\n",
        "    padded = [seq + [pad_token]*(max_len - len(seq)) for seq in sequences]\n",
        "    return torch.tensor(padded, dtype=torch.long)\n",
        "\n",
        "X_train = pad_sequences(train_sequences)\n",
        "y_train = torch.tensor(train_targets, dtype=torch.long)\n",
        "X_val = pad_sequences(val_sequences)\n",
        "y_val = torch.tensor(val_targets, dtype=torch.long)\n",
        "\n",
        "# Store true sequence lengths (before padding) for correct timestep selection\n",
        "X_train_lens = torch.tensor([len(seq) for seq in train_sequences], dtype=torch.long)\n",
        "X_val_lens = torch.tensor([len(seq) for seq in val_sequences], dtype=torch.long)\n",
        "\n",
        "print(f\"\\n📦 Batched data shapes:\")\n",
        "print(f\"   X_train: {X_train.shape}\")\n",
        "print(f\"   y_train: {y_train.shape}\")\n",
        "print(f\"   X_val: {X_val.shape}\")\n",
        "print(f\"   y_val: {y_val.shape}\")\n",
        "print(f\"   X_train_lens: {X_train_lens.shape} (min={X_train_lens.min().item()}, max={X_train_lens.max().item()})\")\n"
      ]
    },
    {
      "cell_type": "code",
      "execution_count": 64,
      "metadata": {},
      "outputs": [
        {
          "name": "stdout",
          "output_type": "stream",
          "text": [
            "📊 Simple RNN Model:\n",
            "   Vocab size: 27\n",
            "   Embed dim: 16\n",
            "   Hidden size: 32\n",
            "   Parameters: 338,395\n",
            "   Architecture: Embedding → RNN → Linear (last timestep)\n",
            "\n",
            "🏗️ Architecture breakdown:\n",
            "   embed.weight   : torch.Size([27, 64]) (1,728 params)\n",
            "   rnn.weight_ih_l0: torch.Size([1024, 64]) (65,536 params)\n",
            "   rnn.weight_hh_l0: torch.Size([1024, 256]) (262,144 params)\n",
            "   rnn.bias_ih_l0 : torch.Size([1024]) (1,024 params)\n",
            "   rnn.bias_hh_l0 : torch.Size([1024]) (1,024 params)\n",
            "   fc.weight      : torch.Size([27, 256]) (6,912 params)\n",
            "   fc.bias        : torch.Size([27]) (27 params)\n",
            "📱 Using device: cuda\n"
          ]
        }
      ],
      "source": [
        "### Define the RNN Model (Exactly as in Example)\n",
        "\n",
        "class NameRNN(torch.nn.Module):\n",
        "    def __init__(self, vocab_size, embed_dim, hidden_size):\n",
        "        super().__init__()\n",
        "        self.embed = torch.nn.Embedding(vocab_size, embed_dim)\n",
        "        self.rnn = torch.nn.LSTM(embed_dim, hidden_size, batch_first=True, dropout=0.2)\n",
        "        self.fc = torch.nn.Linear(hidden_size, vocab_size)\n",
        "\n",
        "    def forward(self, x, lengths=None):\n",
        "        emb = self.embed(x)                    # [B, T, E]\n",
        "        out, _ = self.rnn(emb)                 # [B, T, H]\n",
        "        if lengths is None:\n",
        "            last_hidden = out[:, -1, :]\n",
        "        else:\n",
        "            # Select the hidden state at the true last (non-padded) timestep per sample\n",
        "            idx = (lengths - 1).clamp(min=0).view(-1, 1, 1).expand(-1, 1, out.size(-1))\n",
        "            last_hidden = out.gather(1, idx).squeeze(1)\n",
        "        logits = self.fc(last_hidden)\n",
        "        return logits\n",
        "\n",
        "# Create model exactly as in the example\n",
        "model_rnn = NameRNN(vocab_size, embed_dim=64, hidden_size=256)\n",
        "total_params_rnn = sum(p.numel() for p in model_rnn.parameters())\n",
        "\n",
        "print(f\"📊 Simple RNN Model:\")\n",
        "print(f\"   Vocab size: {vocab_size}\")\n",
        "print(f\"   Embed dim: 16\")\n",
        "print(f\"   Hidden size: 32\")\n",
        "print(f\"   Parameters: {total_params_rnn:,}\")\n",
        "print(f\"   Architecture: Embedding → RNN → Linear (last timestep)\")\n",
        "\n",
        "# Show model architecture details\n",
        "print(f\"\\n🏗️ Architecture breakdown:\")\n",
        "for name, param in model_rnn.named_parameters():\n",
        "    print(f\"   {name:15s}: {param.shape} ({param.numel():,} params)\")\n",
        "\n",
        "device = torch.device('cuda' if torch.cuda.is_available() else 'cpu')\n",
        "model_rnn = model_rnn.to(device)\n",
        "print(f\"📱 Using device: {device}\")\n"
      ]
    },
    {
      "cell_type": "code",
      "execution_count": 65,
      "metadata": {},
      "outputs": [
        {
          "name": "stdout",
          "output_type": "stream",
          "text": [
            "\n",
            "🚀 Training RNN (random mini-batch loop) ...\n",
            "   🎯 Training: 25,000 iterations\n",
            "   📊 Batch size: 512\n",
            "   💡 LR: 0.001 (Adam)\n",
            "   Iter       0/25,000: Train Loss = 3.2992, LR = 0.001000\n",
            "   Iter   5,000/25,000: Train Loss = 1.7290, LR = 0.001000\n",
            "   Iter  10,000/25,000: Train Loss = 1.5452, LR = 0.001000\n",
            "   Iter  15,000/25,000: Train Loss = 1.5277, LR = 0.001000\n",
            "   Iter  20,000/25,000: Train Loss = 1.5045, LR = 0.001000\n",
            "   Iter  24,999/25,000: Train Loss = 1.4926, LR = 0.001000\n",
            "\n",
            "✅ RNN training completed!\n",
            "📉 RNN Validation Loss (CNN-style eval): 1.9342 ✅\n"
          ]
        }
      ],
      "source": [
        "### Train the RNN (random mini-batch loop)\n",
        "\n",
        "# Reuse existing model_rnn (defined above)\n",
        "# Ensure tensors are on the correct device\n",
        "X_train = X_train.to(device)\n",
        "y_train = y_train.to(device)\n",
        "X_val = X_val.to(device)\n",
        "y_val = y_val.to(device)\n",
        "X_train_lens = X_train_lens.to(device)\n",
        "X_val_lens = X_val_lens.to(device)\n",
        "\n",
        "import torch.nn.functional as F\n",
        "\n",
        "# Optimizer\n",
        "optimizer = torch.optim.Adam(model_rnn.parameters(), lr=0.001)\n",
        "\n",
        "num_iterations = 25000\n",
        "batch_size = 512\n",
        "rnn_iter_losses = []\n",
        "\n",
        "print(f\"\\n🚀 Training RNN (random mini-batch loop) ...\")\n",
        "print(f\"   🎯 Training: {num_iterations:,} iterations\")\n",
        "print(f\"   📊 Batch size: {batch_size}\")\n",
        "print(f\"   💡 LR: 0.001 (Adam)\")\n",
        "\n",
        "model_rnn.train()\n",
        "for i in range(num_iterations):\n",
        "    # Random mini-batch\n",
        "    ix = torch.randint(0, X_train.shape[0], (batch_size,), device=device)\n",
        "    Xb = X_train[ix]\n",
        "    Yb = y_train[ix]\n",
        "    Lb = X_train_lens[ix]\n",
        "\n",
        "    # Forward + loss\n",
        "    logits = model_rnn(Xb, lengths=Lb)\n",
        "    loss = F.cross_entropy(logits, Yb)\n",
        "    rnn_iter_losses.append(loss.item())\n",
        "\n",
        "    # Backward + step\n",
        "    optimizer.zero_grad()\n",
        "    loss.backward()\n",
        "    torch.nn.utils.clip_grad_norm_(model_rnn.parameters(), 1.0)\n",
        "    optimizer.step()\n",
        "\n",
        "    # Progress\n",
        "    if i % 5000 == 0 or i == num_iterations - 1:\n",
        "        current_lr = optimizer.param_groups[0]['lr']\n",
        "        print(f\"   Iter {i:7,}/{num_iterations:,}: Train Loss = {loss.item():.4f}, LR = {current_lr:.6f}\")\n",
        "\n",
        "print(f\"\\n✅ RNN training completed!\")\n",
        "\n",
        "# Validation on a random subset\n",
        "model_rnn.eval()\n",
        "with torch.no_grad():\n",
        "    val_ix = torch.randint(0, X_val.shape[0], (min(2000, X_val.shape[0]),), device=device)\n",
        "    logits_val = model_rnn(X_val[val_ix], lengths=X_val_lens[val_ix])\n",
        "    val_loss_5 = F.cross_entropy(logits_val, y_val[val_ix]).item()\n",
        "\n",
        "print(f\"📉 RNN Validation Loss: {val_loss_5:.4f} ✅\")\n"
      ]
    },
    {
      "cell_type": "code",
      "execution_count": 66,
      "metadata": {},
      "outputs": [
        {
          "name": "stdout",
          "output_type": "stream",
          "text": [
            "✨ Generated Names (Corrected RNN):\n",
            "    1. krisana\n",
            "    2. maryellen\n",
            "    3. velmara\n",
            "    4. deepak\n",
            "    5. avika\n",
            "    6. brandy\n",
            "    7. quetzalya\n",
            "    8. saleem\n",
            "    9. yeriel\n",
            "   10. takina\n",
            "   11. rumina\n",
            "   12. tuff\n",
            "   13. kijendere\n",
            "   14. felicia\n",
            "   15. hallee\n",
            "\n",
            "📊 Dataset Comparison:\n",
            "   Original words:       37,231\n",
            "   Old approach (1/word): 37,231\n",
            "   New approach (progressive): 261,746\n",
            "   Improvement factor:   7.0x more training data\n",
            "\n",
            "🎯 Model Performance:\n",
            "   Final validation loss: 1.9342\n",
            "   Training examples: 261,746\n",
            "   Model parameters: 338,395\n",
            "   Approach: Simple RNN with last-timestep output\n"
          ]
        }
      ],
      "source": [
        "### Generate New Names (Exactly as in Example)\n",
        "\n",
        "def generate_name(model, stoi, itos, max_len=10, seed=None):\n",
        "    if seed is not None:\n",
        "        torch.manual_seed(seed)\n",
        "        \n",
        "    model.eval()\n",
        "    idx = stoi['.']  # start token\n",
        "    sequence = [idx]\n",
        "\n",
        "    for _ in range(max_len):\n",
        "        x = torch.tensor([sequence], dtype=torch.long).to(device)\n",
        "        with torch.no_grad():\n",
        "            logits = model(x)\n",
        "            probs = torch.softmax(logits, dim=1)\n",
        "            idx = torch.multinomial(probs, num_samples=1).item()\n",
        "\n",
        "        if itos[idx] == '.':\n",
        "            break\n",
        "        sequence.append(idx)\n",
        "\n",
        "    return \"\".join(itos[i] for i in sequence[1:])\n",
        "\n",
        "# Generate names with the corrected RNN\n",
        "print(\"✨ Generated Names (Corrected RNN):\")\n",
        "names_5 = []\n",
        "for i in range(15):\n",
        "    name = generate_name(model_rnn, stoi, itos, max_len=15, seed=42+i)\n",
        "    names_5.append(name if name else \"short\")\n",
        "    print(f\"   {i+1:2d}. {name if name else 'short'}\")\n",
        "\n",
        "# Compare dataset sizes\n",
        "print(f\"\\n📊 Dataset Comparison:\")\n",
        "print(f\"   Original words:       {len(train_words):,}\")\n",
        "print(f\"   Old approach (1/word): 37,231\")\n",
        "print(f\"   New approach (progressive): {len(train_sequences):,}\")\n",
        "print(f\"   Improvement factor:   {len(train_sequences)/len(train_words):.1f}x more training data\")\n",
        "\n",
        "print(f\"\\n🎯 Model Performance:\")\n",
        "print(f\"   Final validation loss: {val_loss_5:.4f}\")\n",
        "print(f\"   Training examples: {len(train_sequences):,}\")\n",
        "print(f\"   Model parameters: {total_params_rnn:,}\")\n",
        "print(f\"   Approach: Simple RNN with last-timestep output\")\n"
      ]
    },
    {
      "cell_type": "markdown",
      "metadata": {},
      "source": [
        "# Final Comparison: All Five Models\n",
        "\n",
        "Now let's compare all five approaches side by side to understand their strengths and differences.\n"
      ]
    },
    {
      "cell_type": "code",
      "execution_count": 67,
      "metadata": {},
      "outputs": [
        {
          "name": "stdout",
          "output_type": "stream",
          "text": [
            "\n",
            "====================================================================================================\n",
            "🏆 FINAL COMPARISON: ALL FIVE MODELS\n",
            "====================================================================================================\n",
            "\n",
            "📊 Model Performance Comparison:\n",
            "Model                     Validation Loss Parameters   Context        \n",
            "----------------------------------------------------------------------------------------------------\n",
            "1. Count-based Bigram     2.4600          729          1 char         \n"
          ]
        },
        {
          "ename": "NameError",
          "evalue": "name 'val_loss_2' is not defined",
          "output_type": "error",
          "traceback": [
            "\u001b[31m---------------------------------------------------------------------------\u001b[39m",
            "\u001b[31mNameError\u001b[39m                                 Traceback (most recent call last)",
            "\u001b[36mCell\u001b[39m\u001b[36m \u001b[39m\u001b[32mIn[67]\u001b[39m\u001b[32m, line 10\u001b[39m\n\u001b[32m      8\u001b[39m \u001b[38;5;28mprint\u001b[39m(\u001b[33m\"\u001b[39m\u001b[33m-\u001b[39m\u001b[33m\"\u001b[39m * \u001b[32m100\u001b[39m)\n\u001b[32m      9\u001b[39m \u001b[38;5;28mprint\u001b[39m(\u001b[33mf\u001b[39m\u001b[33m\"\u001b[39m\u001b[38;5;132;01m{\u001b[39;00m\u001b[33m'\u001b[39m\u001b[33m1. Count-based Bigram\u001b[39m\u001b[33m'\u001b[39m\u001b[38;5;132;01m:\u001b[39;00m\u001b[33m<25\u001b[39m\u001b[38;5;132;01m}\u001b[39;00m\u001b[33m \u001b[39m\u001b[38;5;132;01m{\u001b[39;00mval_loss_1\u001b[38;5;132;01m:\u001b[39;00m\u001b[33m<15.4f\u001b[39m\u001b[38;5;132;01m}\u001b[39;00m\u001b[33m \u001b[39m\u001b[38;5;132;01m{\u001b[39;00mvocab_size**\u001b[32m2\u001b[39m\u001b[38;5;132;01m:\u001b[39;00m\u001b[33m<12\u001b[39m\u001b[38;5;132;01m}\u001b[39;00m\u001b[33m \u001b[39m\u001b[38;5;132;01m{\u001b[39;00m\u001b[33m'\u001b[39m\u001b[33m1 char\u001b[39m\u001b[33m'\u001b[39m\u001b[38;5;132;01m:\u001b[39;00m\u001b[33m<15\u001b[39m\u001b[38;5;132;01m}\u001b[39;00m\u001b[33m\"\u001b[39m)\n\u001b[32m---> \u001b[39m\u001b[32m10\u001b[39m \u001b[38;5;28mprint\u001b[39m(\u001b[33mf\u001b[39m\u001b[33m\"\u001b[39m\u001b[38;5;132;01m{\u001b[39;00m\u001b[33m'\u001b[39m\u001b[33m2. Neural Bigram\u001b[39m\u001b[33m'\u001b[39m\u001b[38;5;132;01m:\u001b[39;00m\u001b[33m<25\u001b[39m\u001b[38;5;132;01m}\u001b[39;00m\u001b[33m \u001b[39m\u001b[38;5;132;01m{\u001b[39;00m\u001b[43mval_loss_2\u001b[49m\u001b[38;5;132;01m:\u001b[39;00m\u001b[33m<15.4f\u001b[39m\u001b[38;5;132;01m}\u001b[39;00m\u001b[33m \u001b[39m\u001b[38;5;132;01m{\u001b[39;00mW2.nelement()\u001b[38;5;132;01m:\u001b[39;00m\u001b[33m<12\u001b[39m\u001b[38;5;132;01m}\u001b[39;00m\u001b[33m \u001b[39m\u001b[38;5;132;01m{\u001b[39;00m\u001b[33m'\u001b[39m\u001b[33m1 char\u001b[39m\u001b[33m'\u001b[39m\u001b[38;5;132;01m:\u001b[39;00m\u001b[33m<15\u001b[39m\u001b[38;5;132;01m}\u001b[39;00m\u001b[33m\"\u001b[39m)\n\u001b[32m     11\u001b[39m \u001b[38;5;28mprint\u001b[39m(\u001b[33mf\u001b[39m\u001b[33m\"\u001b[39m\u001b[38;5;132;01m{\u001b[39;00m\u001b[33m'\u001b[39m\u001b[33m3. MLP (3-char context)\u001b[39m\u001b[33m'\u001b[39m\u001b[38;5;132;01m:\u001b[39;00m\u001b[33m<25\u001b[39m\u001b[38;5;132;01m}\u001b[39;00m\u001b[33m \u001b[39m\u001b[38;5;132;01m{\u001b[39;00mval_loss_3_mlp\u001b[38;5;132;01m:\u001b[39;00m\u001b[33m<15.4f\u001b[39m\u001b[38;5;132;01m}\u001b[39;00m\u001b[33m \u001b[39m\u001b[38;5;132;01m{\u001b[39;00m\u001b[38;5;28msum\u001b[39m(p.numel()\u001b[38;5;250m \u001b[39m\u001b[38;5;28;01mfor\u001b[39;00m\u001b[38;5;250m \u001b[39mp\u001b[38;5;250m \u001b[39m\u001b[38;5;129;01min\u001b[39;00m\u001b[38;5;250m \u001b[39mmodel_mlp.parameters())\u001b[38;5;132;01m:\u001b[39;00m\u001b[33m<12\u001b[39m\u001b[38;5;132;01m}\u001b[39;00m\u001b[33m \u001b[39m\u001b[38;5;132;01m{\u001b[39;00m\u001b[33m'\u001b[39m\u001b[33m3 chars\u001b[39m\u001b[33m'\u001b[39m\u001b[38;5;132;01m:\u001b[39;00m\u001b[33m<15\u001b[39m\u001b[38;5;132;01m}\u001b[39;00m\u001b[33m\"\u001b[39m)\n\u001b[32m     12\u001b[39m \u001b[38;5;28mprint\u001b[39m(\u001b[33mf\u001b[39m\u001b[33m\"\u001b[39m\u001b[38;5;132;01m{\u001b[39;00m\u001b[33m'\u001b[39m\u001b[33m4. CNN Hierarchical\u001b[39m\u001b[33m'\u001b[39m\u001b[38;5;132;01m:\u001b[39;00m\u001b[33m<25\u001b[39m\u001b[38;5;132;01m}\u001b[39;00m\u001b[33m \u001b[39m\u001b[38;5;132;01m{\u001b[39;00mval_loss_4\u001b[38;5;132;01m:\u001b[39;00m\u001b[33m<15.4f\u001b[39m\u001b[38;5;132;01m}\u001b[39;00m\u001b[33m \u001b[39m\u001b[38;5;132;01m{\u001b[39;00mtotal_params\u001b[38;5;132;01m:\u001b[39;00m\u001b[33m<12\u001b[39m\u001b[38;5;132;01m}\u001b[39;00m\u001b[33m \u001b[39m\u001b[38;5;132;01m{\u001b[39;00m\u001b[33m'\u001b[39m\u001b[33m8 chars\u001b[39m\u001b[33m'\u001b[39m\u001b[38;5;132;01m:\u001b[39;00m\u001b[33m<15\u001b[39m\u001b[38;5;132;01m}\u001b[39;00m\u001b[33m\"\u001b[39m)\n",
            "\u001b[31mNameError\u001b[39m: name 'val_loss_2' is not defined"
          ]
        }
      ],
      "source": [
        "print(\"\\n\" + \"=\" * 100)\n",
        "print(\"🏆 FINAL COMPARISON: ALL FIVE MODELS\")\n",
        "print(\"=\" * 100)\n",
        "\n",
        "# Model comparison table\n",
        "print(f\"\\n📊 Model Performance Comparison:\")\n",
        "print(f\"{'Model':<25} {'Validation Loss':<15} {'Parameters':<12} {'Context':<15}\")\n",
        "print(\"-\" * 100)\n",
        "print(f\"{'1. Count-based Bigram':<25} {val_loss_1:<15.4f} {vocab_size**2:<12} {'1 char':<15}\")\n",
        "print(f\"{'2. Neural Bigram':<25} {val_loss_2:<15.4f} {W2.nelement():<12} {'1 char':<15}\")\n",
        "print(f\"{'3. MLP (3-char context)':<25} {val_loss_3_mlp:<15.4f} {sum(p.numel() for p in model_mlp.parameters()):<12} {'3 chars':<15}\")\n",
        "print(f\"{'4. CNN Hierarchical':<25} {val_loss_4:<15.4f} {total_params:<12} {'8 chars':<15}\")\n",
        "print(f\"{'5. Efficient RNN':<25} {val_loss_5:<15.4f} {total_params_rnn:<12} {'Variable':<15}\")\n",
        "\n",
        "# Determine best model\n",
        "losses = [val_loss_1, val_loss_2, val_loss_3_mlp, val_loss_4, val_loss_5]\n",
        "model_names = [\"Count-based Bigram\", \"Neural Bigram\", \"MLP with Context\", \"CNN Hierarchical\", \"Efficient RNN\"]\n",
        "best_idx = losses.index(min(losses))\n",
        "\n",
        "print(f\"\\n🥇 Best Model: {model_names[best_idx]} (Loss: {losses[best_idx]:.4f})\")\n",
        "\n",
        "# Side-by-side name generation comparison\n",
        "print(f\"\\n✨ Generated Names Comparison (same seed=42):\")\n",
        "print(f\"{'Count-based':<15} {'Neural Bigram':<15} {'MLP Context':<15} {'CNN Hier.':<15} {'Efficient RNN':<15}\")\n",
        "print(\"-\" * 100)\n",
        "\n",
        "max_names = max(len(names_1), len(names_2), len(names_3_pytorch), len(names_4), len(names_5))\n",
        "for i in range(max_names):\n",
        "    name1 = names_1[i] if i < len(names_1) else \"\"\n",
        "    name2 = names_2[i] if i < len(names_2) else \"\"\n",
        "    name3 = names_3_pytorch[i] if i < len(names_3_pytorch) else \"\"\n",
        "    name4 = names_4[i] if i < len(names_4) else \"\"\n",
        "    name5 = names_5[i] if i < len(names_5) else \"\"\n",
        "    print(f\"{name1:<15} {name2:<15} {name3:<15} {name4:<15} {name5:<15}\")\n",
        "\n",
        "\n",
        "\n",
        "\n",
        "\n"
      ]
    }
  ],
  "metadata": {
    "kernelspec": {
      "display_name": ".venv",
      "language": "python",
      "name": "python3"
    },
    "language_info": {
      "codemirror_mode": {
        "name": "ipython",
        "version": 3
      },
      "file_extension": ".py",
      "mimetype": "text/x-python",
      "name": "python",
      "nbconvert_exporter": "python",
      "pygments_lexer": "ipython3",
      "version": "3.12.6"
    }
  },
  "nbformat": 4,
  "nbformat_minor": 2
}
